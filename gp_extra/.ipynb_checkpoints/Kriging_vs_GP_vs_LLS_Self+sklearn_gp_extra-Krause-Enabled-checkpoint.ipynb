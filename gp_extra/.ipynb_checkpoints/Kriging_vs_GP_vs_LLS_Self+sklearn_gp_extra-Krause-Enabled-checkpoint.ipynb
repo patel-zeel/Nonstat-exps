{
 "cells": [
  {
   "cell_type": "code",
   "execution_count": 1,
   "metadata": {},
   "outputs": [],
   "source": [
    "import pandas as pd\n",
    "import numpy as np\n",
    "import os\n",
    "import sys\n",
    "!pip -qq install psutil\n",
    "import psutil\n",
    "from time import time, sleep\n",
    "from sklearn.model_selection import KFold, GridSearchCV\n",
    "from sklearn.preprocessing import StandardScaler\n",
    "from sklearn.metrics import mean_squared_error\n",
    "import resource\n",
    "from glob import glob\n",
    "from IPython.display import clear_output\n",
    "from sklearn.covariance import EmpiricalCovariance as EC\n",
    "from NSGPy.NumPy import LLS\n",
    "import matplotlib.pyplot as plt\n",
    "import warnings\n",
    "warnings.filterwarnings('ignore')\n",
    "\n",
    "from GPy.models import GPRegression as GPR\n",
    "from GPy.kern import Matern32"
   ]
  },
  {
   "cell_type": "code",
   "execution_count": 6,
   "metadata": {},
   "outputs": [
    {
     "data": {
      "text/plain": [
       "EmpiricalCovariance()"
      ]
     },
     "execution_count": 6,
     "metadata": {},
     "output_type": "execute_result"
    }
   ],
   "source": [
    "a = np.random.rand(10,50)\n",
    "m = EC()\n",
    "m.fit(a)"
   ]
  },
  {
   "cell_type": "code",
   "execution_count": 12,
   "metadata": {},
   "outputs": [
    {
     "name": "stdout",
     "output_type": "stream",
     "text": [
      "[[-32.50812783  15.32558659  52.87893583 -11.2562448  -12.33544466]\n",
      " [  9.25021588  -3.43809817 -13.97504461   3.54078327   2.19954659]\n",
      " [ 18.55054862  -8.23396991 -30.87714417   6.01615376   7.86862104]\n",
      " [ -7.47511394   2.98196472  10.88023678  -1.43664477  -2.04363356]\n",
      " [ 19.686791    -9.78854023 -29.15412114   5.6901684    7.18233973]]\n",
      "[[-13.93394735   0.11442998  23.83012652]\n",
      " [ 21.69019241  -2.38019377 -30.52790917]\n",
      " [ -5.25346033   2.72473497   4.14780991]]\n"
     ]
    },
    {
     "data": {
      "text/plain": [
       "[8, 9, 10]"
      ]
     },
     "execution_count": 12,
     "metadata": {},
     "output_type": "execute_result"
    }
   ],
   "source": [
    "a = np.random.rand(5,5)\n",
    "print(np.linalg.inv(a))\n",
    "print(np.linalg.inv(a[:3,:3]))\n",
    "a = [8,9,10,11]\n",
    "a.remove(11)\n",
    "a"
   ]
  },
  {
   "cell_type": "markdown",
   "metadata": {},
   "source": [
    "## Data preperation"
   ]
  },
  {
   "cell_type": "code",
   "execution_count": 2,
   "metadata": {},
   "outputs": [
    {
     "name": "stdout",
     "output_type": "stream",
     "text": [
      "unique timestamps are 7460\n",
      "unique timestamps after removing missing entry time-stamps are 2132\n"
     ]
    }
   ],
   "source": [
    "main_path = '~/Nonstat-exps/gp_extra/'\n",
    "df = pd.read_csv(main_path+'data/beijing_AQI.csv').rename(columns={'PM25_Concentration':'PM25','longitude':'long','latitude':'lat'})\n",
    "df = df.set_index('time').sort_index()\n",
    "print('unique timestamps are',len(df.index.unique()))\n",
    "useful_ts = []\n",
    "for ts in df.index.unique():\n",
    "  if(len(df.loc[ts])==36):\n",
    "    useful_ts.append(ts)\n",
    "df = df.loc[useful_ts]\n",
    "df['PM25'] = df['PM25'].astype(float)\n",
    "print('unique timestamps after removing missing entry time-stamps are',len(useful_ts))\n",
    "df.columns\n",
    "\n",
    "n_ts = len(useful_ts)\n",
    "K = 3 #  Number of folds\n",
    "n_val = 6 # Number of validation stations\n",
    "\n",
    "splitter = KFold(K, shuffle=True, random_state=0)\n",
    "stations = np.sort(df['station_id'].unique())\n",
    "folds={i:{'train':None,'val':None,'test':None} for i in range(K)}\n",
    "for i, (train_val, test) in enumerate(splitter.split(stations)):\n",
    "    folds[i]['train'] = stations[train_val[:-n_val]]\n",
    "    folds[i]['val'] = stations[train_val[-n_val:]]\n",
    "    folds[i]['test'] = stations[test]\n",
    "    \n",
    "###########################\n",
    "# Data preperation\n",
    "###########################\n",
    "data = {i:{'train_Xy':None,'val_Xy':None,'test_Xy':None} for i in range(K)}\n",
    "for fold in range(K):\n",
    "    for part in ['train','val','test']:\n",
    "        data[fold][part+'_Xy'] = (df[df.station_id.isin(folds[fold][part])][['long', 'lat']], \n",
    "                                  df[df.station_id.isin(folds[fold][part])][['PM25']])"
   ]
  },
  {
   "cell_type": "markdown",
   "metadata": {},
   "source": [
    "## Predicting average of train"
   ]
  },
  {
   "cell_type": "code",
   "execution_count": 52,
   "metadata": {},
   "outputs": [
    {
     "name": "stdout",
     "output_type": "stream",
     "text": [
      "mean fold rmse (mean) 24.169627837037883\n",
      "mean fold rmse (ind) 28.01549065975325\n",
      "mean fold rmse (mean) 21.408416061116977\n",
      "mean fold rmse (ind) 25.008867083189443\n",
      "mean fold rmse (mean) 21.70020189677074\n",
      "mean fold rmse (ind) 25.702693287190034\n",
      "mean overall rmse (mean) 22.426081931641868\n",
      "mean overall rmse (ind) 26.273812005535863\n"
     ]
    }
   ],
   "source": [
    "n_ts = 24*30\n",
    "preds = []\n",
    "tests = []\n",
    "n_fold_rmse = []\n",
    "for fold in range(K):\n",
    "    f_preds = []\n",
    "    f_tests = []\n",
    "    fold_rmse = []\n",
    "    for ts_n in range(n_ts):\n",
    "        ts = df.index.unique()[ts_n]\n",
    "        f_tests.append(data[fold]['test_Xy'][1].loc[ts].values)\n",
    "        f_preds.append(np.array([np.mean(data[fold]['train_Xy'][1].loc[ts].values)]*\\\n",
    "                                data[fold]['test_Xy'][1].loc[ts].values.shape[0]).reshape(-1,1))\n",
    "        preds.append(f_preds[-1])\n",
    "        tests.append(data[fold]['test_Xy'][1].loc[ts].values)\n",
    "        fold_rmse.append(mean_squared_error(f_tests[-1], f_preds[-1], squared=False))\n",
    "        n_fold_rmse.append(mean_squared_error(f_tests[-1], f_preds[-1], squared=False))\n",
    "    print('mean fold rmse (mean)', np.mean(fold_rmse))\n",
    "    print('mean fold rmse (ind)', mean_squared_error(np.concatenate(f_tests), np.concatenate(f_preds), squared=False))\n",
    "print('mean overall rmse (mean)', np.mean(n_fold_rmse))\n",
    "print('mean overall rmse (ind)', mean_squared_error(np.concatenate(tests), np.concatenate(preds), squared=False))"
   ]
  },
  {
   "cell_type": "markdown",
   "metadata": {},
   "source": [
    "## df to save all results"
   ]
  },
  {
   "cell_type": "code",
   "execution_count": 3,
   "metadata": {},
   "outputs": [],
   "source": [
    "n_time_i = np.array(df.index.unique().tolist()*3).reshape(1,-1)\n",
    "n_time_id = np.array(list(range(len(df.index.unique())))*3).reshape(1,-1)\n",
    "n_fold_i = np.concatenate([np.ones(n_time_i.shape[1]//3)*0, \n",
    "                           np.ones(n_time_i.shape[1]//3)*1, \n",
    "                           np.ones(n_time_i.shape[1]//3)*2]).reshape(1,-1).astype(int)\n",
    "mult_i = np.concatenate([n_time_id, n_time_i, n_fold_i], axis=0)\n",
    "master_df = pd.DataFrame(index=pd.MultiIndex.from_arrays(mult_i))"
   ]
  },
  {
   "cell_type": "markdown",
   "metadata": {},
   "source": [
    "## K fold GP-LLS - matern"
   ]
  },
  {
   "cell_type": "code",
   "execution_count": 4,
   "metadata": {},
   "outputs": [],
   "source": [
    "path = 'results/raw_gp_lls_self/'\n",
    "kernel = 'matern'\n",
    "n_ts = 24"
   ]
  },
  {
   "cell_type": "code",
   "execution_count": 5,
   "metadata": {},
   "outputs": [],
   "source": [
    "# Check if works\n",
    "# !python scripts/process_gp_lls_self.py 13 1 matern"
   ]
  },
  {
   "cell_type": "markdown",
   "metadata": {},
   "source": [
    "### Training"
   ]
  },
  {
   "cell_type": "code",
   "execution_count": 6,
   "metadata": {
    "scrolled": false
   },
   "outputs": [
    {
     "name": "stdout",
     "output_type": "stream",
     "text": [
      "end 2 of 2\n",
      "4.564747099081675 all fold complete\n"
     ]
    }
   ],
   "source": [
    "init = time()\n",
    "jobs = []\n",
    "for fold in range(K):\n",
    "    for ts in range(n_ts):\n",
    "        jobs.append('python scripts/process_gp_lls_self.py {0} {1} {2}'.format(ts, fold, kernel))\n",
    "\n",
    "print('starting',len(jobs),'jobs on',psutil.cpu_count(),'CPUs')\n",
    "sleep(1)\n",
    "n_splits = len(jobs)//32\n",
    "for b_id, batch in enumerate(np.array_split(jobs, n_splits)):\n",
    "    print('start',b_id+1,'of',n_splits)\n",
    "    print('length of batch=',len(batch))\n",
    "    os.system(' | '.join(batch))\n",
    "    clear_output(wait=True)\n",
    "    print('end',b_id+1,'of',n_splits)\n",
    "print((time()-init)/60, 'all fold complete')"
   ]
  },
  {
   "cell_type": "markdown",
   "metadata": {},
   "source": [
    "### RMSE calculation"
   ]
  },
  {
   "cell_type": "code",
   "execution_count": 7,
   "metadata": {},
   "outputs": [
    {
     "name": "stdout",
     "output_type": "stream",
     "text": [
      "Fold 0 mean_rmse 26.86611876855044\n",
      "Fold 0 individual_rmse 31.51416245754586\n",
      "Fold 1 mean_rmse 21.72302760351303\n",
      "Fold 1 individual_rmse 24.81053715294914\n",
      "Fold 2 mean_rmse 25.08348017877968\n",
      "Fold 2 individual_rmse 28.925383849858157\n",
      "Overall RMSE (individual) 28.55044086104508\n",
      "Overall RMSE (mean of folds) 24.557542183614384\n"
     ]
    },
    {
     "data": {
      "text/plain": [
       "9    6\n",
       "4    6\n",
       "8    4\n",
       "3    4\n",
       "7    2\n",
       "6    2\n",
       "dtype: int64"
      ]
     },
     "execution_count": 7,
     "metadata": {},
     "output_type": "execute_result"
    }
   ],
   "source": [
    "path = 'results/raw_gp_lls_self/'+kernel+'/'\n",
    "name = 'lls_matern'\n",
    "master_df[name] = None\n",
    "preds = []\n",
    "tests = []\n",
    "mean_rmse_per_fold = []\n",
    "success = []\n",
    "n_fold_rmse = []\n",
    "for fold in folds:\n",
    "    hyp = []\n",
    "    fold_rmse = []\n",
    "    tmp_preds_y = []\n",
    "    tmp_models = []\n",
    "    tmp_tests_y = []\n",
    "    tmp_tests_x = []\n",
    "    tmp_train_Xy = []\n",
    "    for ts_n, ts in enumerate(df.index.unique()[:n_ts]):\n",
    "        try:\n",
    "            tmp = pd.read_pickle(path+'ts_'+str(ts)+'_fold_'+str(fold))\n",
    "            hyp.append(tmp['best_hyperpara']['N'])\n",
    "            preds.append(tmp['pred_y'].squeeze())\n",
    "            tests.append(tmp['test_y'].squeeze())\n",
    "            tmp_models.append(tmp['best_model'])\n",
    "            tmp_train_Xy.append(tmp['train_Xy'])\n",
    "            tmp_tests_x.append(tmp['test_Xy'][0].squeeze())\n",
    "            tmp_preds_y.append(tmp['pred_y'].squeeze())\n",
    "            tmp_tests_y.append(tmp['test_y'].squeeze())\n",
    "            success.append(path+'ts_'+str(ts)+'_fold_'+str(fold))\n",
    "            fold_rmse.append(mean_squared_error(tmp_tests_y[-1], tmp_preds_y[-1], squared=False))\n",
    "            master_df.loc[(str(ts_n), str(ts), str(fold)),name] = mean_squared_error(tmp_tests_y[-1], tmp_preds_y[-1], squared=False)\n",
    "            master_df.loc[(str(ts_n), str(ts), str(fold)),name+'_model'] = tmp['best_model']\n",
    "        except:\n",
    "            pass\n",
    "    print('Fold',fold,'mean_rmse',np.mean(fold_rmse))\n",
    "    mean_rmse_per_fold.append(np.mean(fold_rmse))\n",
    "    print(\"Fold\",fold,'individual_rmse',mean_squared_error(np.array(tmp_tests_y).flatten(), np.array(tmp_preds_y).flatten(), squared=False))\n",
    "print(\"Overall RMSE (individual)\", mean_squared_error(np.array(tests).flatten(), np.array(preds).flatten(), squared=False))\n",
    "print(\"Overall RMSE (mean of folds)\", np.mean(mean_rmse_per_fold))\n",
    "pd.Series(hyp).value_counts()"
   ]
  },
  {
   "cell_type": "markdown",
   "metadata": {},
   "source": [
    "## Manual check (Misc.)"
   ]
  },
  {
   "cell_type": "code",
   "execution_count": 8,
   "metadata": {},
   "outputs": [
    {
     "data": {
      "image/png": "[encoded data removed]",
      "text/plain": [
       "<Figure size 432x288 with 1 Axes>"
      ]
     },
     "metadata": {
      "needs_background": "light"
     },
     "output_type": "display_data"
    }
   ],
   "source": [
    "import matplotlib.pyplot as plt\n",
    "N = 0\n",
    "dim = 0\n",
    "plt.plot()\n",
    "plt.scatter(tmp_train_Xy[N][0][:,dim], tmp_train_Xy[N][1],label='train')\n",
    "plt.scatter(tmp_tests_x[N][:,dim], tmp_tests_y[N],label='test')\n",
    "plt.scatter(tmp_tests_x[N][:,dim], tmp_preds_y[N],label='pred')\n",
    "plt.legend();"
   ]
  },
  {
   "cell_type": "code",
   "execution_count": 9,
   "metadata": {},
   "outputs": [],
   "source": [
    "# pd.to_pickle(success, 'results/sync.pickle')"
   ]
  },
  {
   "cell_type": "markdown",
   "metadata": {},
   "source": [
    "## K fold GP-LLS - rbf"
   ]
  },
  {
   "cell_type": "code",
   "execution_count": 10,
   "metadata": {},
   "outputs": [],
   "source": [
    "path = 'results/raw_gp_lls_self/'\n",
    "kernel = 'rbf'\n",
    "n_ts = 24"
   ]
  },
  {
   "cell_type": "markdown",
   "metadata": {},
   "source": [
    "### Training"
   ]
  },
  {
   "cell_type": "code",
   "execution_count": 11,
   "metadata": {
    "scrolled": false
   },
   "outputs": [
    {
     "name": "stdout",
     "output_type": "stream",
     "text": [
      "end 2 of 2\n",
      "3.8994598468144734 minutes. all fold complete\n"
     ]
    }
   ],
   "source": [
    "init = time()\n",
    "jobs = []\n",
    "for fold in range(K):\n",
    "    for ts in range(n_ts):\n",
    "        jobs.append('python scripts/process_gp_lls_self.py {0} {1} {2}'.format(ts, fold, kernel))\n",
    "\n",
    "print('starting',len(jobs),'jobs on',psutil.cpu_count(),'CPUs')\n",
    "sleep(1)\n",
    "n_splits = len(jobs)//64+1\n",
    "for b_id, batch in enumerate(np.array_split(jobs, n_splits)):\n",
    "    print('start',b_id+1,'of',n_splits)\n",
    "    print('length of batch=',len(batch))\n",
    "    os.system(' | '.join(batch))\n",
    "    clear_output(wait=True)\n",
    "    print('end',b_id+1,'of',n_splits)\n",
    "print((time()-init)/60, 'minutes. all fold complete')"
   ]
  },
  {
   "cell_type": "markdown",
   "metadata": {},
   "source": [
    "### RMSE calculation"
   ]
  },
  {
   "cell_type": "code",
   "execution_count": 12,
   "metadata": {},
   "outputs": [
    {
     "name": "stdout",
     "output_type": "stream",
     "text": [
      "Fold 0 mean_rmse 26.62314973399963\n",
      "Fold 0 individual_rmse 31.554347353983545\n",
      "Fold 1 mean_rmse 21.17898094374728\n",
      "Fold 1 individual_rmse 24.935386502936648\n",
      "Fold 2 mean_rmse 23.79904641242879\n",
      "Fold 2 individual_rmse 26.545866162249574\n",
      "Overall RMSE (individual) 27.82165431991629\n",
      "Overall RMSE (mean of folds) 23.867059030058567\n"
     ]
    },
    {
     "data": {
      "text/plain": [
       "9    5\n",
       "8    5\n",
       "6    4\n",
       "3    4\n",
       "7    3\n",
       "5    2\n",
       "4    1\n",
       "dtype: int64"
      ]
     },
     "execution_count": 12,
     "metadata": {},
     "output_type": "execute_result"
    }
   ],
   "source": [
    "path = 'results/raw_gp_lls_self/'+kernel+'/'\n",
    "name = 'lls_rbf'\n",
    "master_df[name] = None\n",
    "preds = []\n",
    "tests = []\n",
    "mean_rmse_per_fold = []\n",
    "success = []\n",
    "n_fold_rmse = []\n",
    "for fold in folds:\n",
    "    hyp = []\n",
    "    fold_rmse = []\n",
    "    tmp_preds_y = []\n",
    "    tmp_models = []\n",
    "    tmp_tests_y = []\n",
    "    tmp_tests_x = []\n",
    "    tmp_train_Xy = []\n",
    "    for ts_n, ts in enumerate(df.index.unique()[:n_ts]):\n",
    "        try:\n",
    "            tmp = pd.read_pickle(path+'ts_'+str(ts)+'_fold_'+str(fold))\n",
    "            hyp.append(tmp['best_hyperpara']['N'])\n",
    "            preds.append(tmp['pred_y'].squeeze())\n",
    "            tests.append(tmp['test_y'].squeeze())\n",
    "            tmp_models.append(tmp['best_model'])\n",
    "            tmp_train_Xy.append(tmp['train_Xy'])\n",
    "            tmp_tests_x.append(tmp['test_Xy'][0].squeeze())\n",
    "            tmp_preds_y.append(tmp['pred_y'].squeeze())\n",
    "            tmp_tests_y.append(tmp['test_y'].squeeze())\n",
    "            success.append(path+'ts_'+str(ts)+'_fold_'+str(fold))\n",
    "            fold_rmse.append(mean_squared_error(tmp_tests_y[-1], tmp_preds_y[-1], squared=False))\n",
    "            master_df.loc[(str(ts_n), str(ts), str(fold)),name] = mean_squared_error(tmp_tests_y[-1], tmp_preds_y[-1], squared=False)\n",
    "        except:\n",
    "            pass\n",
    "    print('Fold',fold,'mean_rmse',np.mean(fold_rmse))\n",
    "    mean_rmse_per_fold.append(np.mean(fold_rmse))\n",
    "    print(\"Fold\",fold,'individual_rmse',mean_squared_error(np.array(tmp_tests_y).flatten(), np.array(tmp_preds_y).flatten(), squared=False))\n",
    "print(\"Overall RMSE (individual)\", mean_squared_error(np.array(tests).flatten(), np.array(preds).flatten(), squared=False))\n",
    "print(\"Overall RMSE (mean of folds)\", np.mean(mean_rmse_per_fold))\n",
    "pd.Series(hyp).value_counts()"
   ]
  },
  {
   "cell_type": "markdown",
   "metadata": {},
   "source": [
    "## Manual check (Misc.)"
   ]
  },
  {
   "cell_type": "code",
   "execution_count": 13,
   "metadata": {},
   "outputs": [
    {
     "data": {
      "image/png": "[encoded data removed]",
      "text/plain": [
       "<Figure size 432x288 with 1 Axes>"
      ]
     },
     "metadata": {
      "needs_background": "light"
     },
     "output_type": "display_data"
    }
   ],
   "source": [
    "N = 0\n",
    "dim = 1\n",
    "plt.plot()\n",
    "plt.scatter(tmp_train_Xy[N][0][:,dim], tmp_train_Xy[N][1],label='train')\n",
    "plt.scatter(tmp_tests_x[N][:,dim], tmp_tests_y[N],label='test')\n",
    "plt.scatter(tmp_tests_x[N][:,dim], tmp_preds_y[N],label='pred')\n",
    "plt.legend();"
   ]
  },
  {
   "cell_type": "markdown",
   "metadata": {},
   "source": [
    "## K fold GP-LLS-matern-gp-extra"
   ]
  },
  {
   "cell_type": "code",
   "execution_count": 14,
   "metadata": {},
   "outputs": [],
   "source": [
    "# path = 'results/raw_gp_lls_matern_gp_extras/'\n",
    "# n_ts = 24"
   ]
  },
  {
   "cell_type": "code",
   "execution_count": 15,
   "metadata": {},
   "outputs": [],
   "source": [
    "# from scipy.optimize import differential_evolution\n",
    "# from sklearn.gaussian_process import GaussianProcessRegressor\n",
    "# from sklearn.gaussian_process.kernels \\\n",
    "#     import ConstantKernel as C, Matern\n",
    "# from sklearn.metrics import mean_squared_error\n",
    "# from gp_extras.kernels import LocalLengthScalesKernel\n",
    "\n",
    "# def de_optimizer(obj_func, initial_theta, bounds):\n",
    "#     res = differential_evolution(lambda x: obj_func(x, eval_gradient=False),\n",
    "#                                  bounds, maxiter=20, disp=False, polish=False)\n",
    "#     return res.x, obj_func(res.x, eval_gradient=False)"
   ]
  },
  {
   "cell_type": "code",
   "execution_count": 16,
   "metadata": {},
   "outputs": [],
   "source": [
    "# Check if works\n",
    "# !python scripts/process_gp_lls_gp_extras.py 0 0"
   ]
  },
  {
   "cell_type": "markdown",
   "metadata": {},
   "source": [
    "### Training"
   ]
  },
  {
   "cell_type": "code",
   "execution_count": 17,
   "metadata": {
    "scrolled": true
   },
   "outputs": [],
   "source": [
    "# init = time()\n",
    "# jobs = []\n",
    "# for fold in range(K):\n",
    "#     for ts in range(n_ts):\n",
    "#         jobs.append('python scripts/process_gp_lls_gp_extras.py {0} {1}'.format(ts, fold))\n",
    "\n",
    "# print('starting',len(jobs),'jobs on',psutil.cpu_count(),'CPUs')\n",
    "# sleep(1)\n",
    "# n_splits = len(jobs)//64+1\n",
    "# for b_id, batch in enumerate(np.array_split(jobs, n_splits)):\n",
    "#     print('start',b_id+1,'of',n_splits)\n",
    "#     print('length of batch=',len(batch))\n",
    "#     os.system(' | '.join(batch))\n",
    "#     clear_output(wait=True)\n",
    "#     print('end',b_id+1,'of',n_splits)\n",
    "# print((time()-init)/60, 'minutes. all fold complete')"
   ]
  },
  {
   "cell_type": "markdown",
   "metadata": {},
   "source": [
    "### RMSE calculation"
   ]
  },
  {
   "cell_type": "code",
   "execution_count": 18,
   "metadata": {},
   "outputs": [],
   "source": [
    "# path = 'results/raw_gp_lls_matern_gp_extras/'\n",
    "# name = 'gp_extra_matern'\n",
    "# master_df[name] = None\n",
    "# preds = []\n",
    "# tests = []\n",
    "# mean_rmse_per_fold = []\n",
    "# success = []\n",
    "# n_fold_rmse = []\n",
    "# for fold in folds:\n",
    "#     hyp = []\n",
    "#     fold_rmse = []\n",
    "#     tmp_preds_y = []\n",
    "#     tmp_models = []\n",
    "#     tmp_tests_y = []\n",
    "#     tmp_tests_x = []\n",
    "#     tmp_train_Xy = []\n",
    "#     for ts_n, ts in enumerate(df.index.unique()[:n_ts]):\n",
    "#         try:\n",
    "#             tmp = pd.read_pickle(path+'ts_'+str(ts)+'_fold_'+str(fold))\n",
    "#             hyp.append(tmp['best_hyperpara']['N'])\n",
    "#             preds.append(tmp['pred_y'].squeeze())\n",
    "#             tests.append(tmp['test_y'].squeeze())\n",
    "#             tmp_models.append(tmp['best_model'])\n",
    "#             tmp_train_Xy.append(tmp['train_Xy'])\n",
    "#             tmp_tests_x.append(tmp['test_Xy'][0].squeeze())\n",
    "#             tmp_preds_y.append(tmp['pred_y'].squeeze())\n",
    "#             tmp_tests_y.append(tmp['test_y'].squeeze())\n",
    "#             success.append(path+'ts_'+str(ts)+'_fold_'+str(fold))\n",
    "#             fold_rmse.append(mean_squared_error(tmp_tests_y[-1], tmp_preds_y[-1], squared=False))\n",
    "#             master_df.loc[(str(ts_n), str(ts), str(fold)),name] = mean_squared_error(tmp_tests_y[-1], tmp_preds_y[-1], squared=False)\n",
    "#         except:\n",
    "#             pass\n",
    "#     print('Fold',fold,'mean_rmse',np.mean(fold_rmse))\n",
    "#     mean_rmse_per_fold.append(np.mean(fold_rmse))\n",
    "#     print(\"Fold\",fold,'individual_rmse',mean_squared_error(np.array(tmp_tests_y).flatten(), np.array(tmp_preds_y).flatten(), squared=False))\n",
    "# print(\"Overall RMSE (individual)\", mean_squared_error(np.array(tests).flatten(), np.array(preds).flatten(), squared=False))\n",
    "# print(\"Overall RMSE (mean of folds)\", np.mean(mean_rmse_per_fold))\n",
    "# pd.Series(hyp).value_counts()"
   ]
  },
  {
   "cell_type": "markdown",
   "metadata": {},
   "source": [
    "## K fold Kriging"
   ]
  },
  {
   "cell_type": "code",
   "execution_count": 19,
   "metadata": {},
   "outputs": [],
   "source": [
    "path = 'results/raw_kriging/'\n",
    "n_ts = 24"
   ]
  },
  {
   "cell_type": "code",
   "execution_count": 20,
   "metadata": {},
   "outputs": [],
   "source": [
    "# Check if works\n",
    "# !python scripts/process_kriging.py 0 0"
   ]
  },
  {
   "cell_type": "markdown",
   "metadata": {},
   "source": [
    "### Training"
   ]
  },
  {
   "cell_type": "code",
   "execution_count": 21,
   "metadata": {
    "scrolled": true
   },
   "outputs": [],
   "source": [
    "# init = time()\n",
    "# jobs = []\n",
    "# for fold in range(K):\n",
    "#     for ts in range(n_ts):\n",
    "#         jobs.append('python scripts/process_kriging.py {0} {1}'.format(ts, fold))\n",
    "\n",
    "# print('starting',len(jobs),'jobs on',psutil.cpu_count(),'CPUs')\n",
    "# sleep(1)\n",
    "# n_splits = len(jobs)//64+1\n",
    "# for b_id, batch in enumerate(np.array_split(jobs, n_splits)):\n",
    "#     print('start',b_id+1,'of',n_splits)\n",
    "#     print('length of batch=',len(batch))\n",
    "#     os.system(' | '.join(batch))\n",
    "#     clear_output(wait=True)\n",
    "#     print('end',b_id+1,'of',n_splits)\n",
    "# print((time()-init)/60, 'minutes. all fold complete')"
   ]
  },
  {
   "cell_type": "markdown",
   "metadata": {},
   "source": [
    "### RMSE calculation"
   ]
  },
  {
   "cell_type": "code",
   "execution_count": 22,
   "metadata": {},
   "outputs": [
    {
     "name": "stdout",
     "output_type": "stream",
     "text": [
      "Fold 0 mean_rmse 23.75316884410807\n",
      "Fold 0 individual_rmse 26.699839384773693\n",
      "Fold 1 mean_rmse 19.649797782390547\n",
      "Fold 1 individual_rmse 22.766864313809513\n",
      "Fold 2 mean_rmse 23.047641448882217\n",
      "Fold 2 individual_rmse 24.967948866013174\n",
      "Overall RMSE (individual) 24.863695115783937\n",
      "Overall RMSE (mean of folds) 22.150202691793613\n"
     ]
    },
    {
     "data": {
      "text/plain": [
       "9    6\n",
       "8    5\n",
       "7    3\n",
       "6    3\n",
       "5    3\n",
       "4    3\n",
       "3    1\n",
       "dtype: int64"
      ]
     },
     "execution_count": 22,
     "metadata": {},
     "output_type": "execute_result"
    }
   ],
   "source": [
    "path = 'results/raw_kriging/'\n",
    "name = 'kriging'\n",
    "master_df[name] = None\n",
    "preds = []\n",
    "tests = []\n",
    "mean_rmse_per_fold = []\n",
    "success = []\n",
    "n_fold_rmse = []\n",
    "for fold in folds:\n",
    "    hyp = []\n",
    "    fold_rmse = []\n",
    "    tmp_preds_y = []\n",
    "    tmp_models = []\n",
    "    tmp_tests_y = []\n",
    "    tmp_tests_x = []\n",
    "    tmp_train_Xy = []\n",
    "    for ts_n, ts in enumerate(df.index.unique()[:n_ts]):\n",
    "        try:\n",
    "            tmp = pd.read_pickle(path+'ts_'+str(ts)+'_fold_'+str(fold))\n",
    "            hyp.append(tmp['best_hyperpara']['nlags'])\n",
    "            preds.append(tmp['pred_y'].squeeze())\n",
    "            tests.append(tmp['test_y'].squeeze())\n",
    "            tmp_models.append(tmp['best_model'])\n",
    "            tmp_train_Xy.append(tmp['train_Xy'])\n",
    "            tmp_tests_x.append(tmp['test_Xy'][0].squeeze())\n",
    "            tmp_preds_y.append(tmp['pred_y'].squeeze())\n",
    "            tmp_tests_y.append(tmp['test_y'].squeeze())\n",
    "            success.append(path+'ts_'+str(ts)+'_fold_'+str(fold))\n",
    "            fold_rmse.append(mean_squared_error(tmp_tests_y[-1], tmp_preds_y[-1], squared=False))\n",
    "            master_df.loc[(str(ts_n), str(ts), str(fold)),name] = mean_squared_error(tmp_tests_y[-1], tmp_preds_y[-1], squared=False)\n",
    "        except:\n",
    "            pass\n",
    "    print('Fold',fold,'mean_rmse',np.mean(fold_rmse))\n",
    "    mean_rmse_per_fold.append(np.mean(fold_rmse))\n",
    "    print(\"Fold\",fold,'individual_rmse',mean_squared_error(np.array(tmp_tests_y).flatten(), np.array(tmp_preds_y).flatten(), squared=False))\n",
    "print(\"Overall RMSE (individual)\", mean_squared_error(np.array(tests).flatten(), np.array(preds).flatten(), squared=False))\n",
    "print(\"Overall RMSE (mean of folds)\", np.mean(mean_rmse_per_fold))\n",
    "pd.Series(hyp).value_counts()"
   ]
  },
  {
   "cell_type": "markdown",
   "metadata": {},
   "source": [
    "## K fold GP - RBF"
   ]
  },
  {
   "cell_type": "code",
   "execution_count": 23,
   "metadata": {},
   "outputs": [],
   "source": [
    "path = 'results/raw_gp_rbf/'\n",
    "n_ts = 24"
   ]
  },
  {
   "cell_type": "code",
   "execution_count": 24,
   "metadata": {},
   "outputs": [],
   "source": [
    "# Check if works\n",
    "# !python scripts/process_gp_rbf.py 0 0"
   ]
  },
  {
   "cell_type": "markdown",
   "metadata": {},
   "source": [
    "### Training"
   ]
  },
  {
   "cell_type": "code",
   "execution_count": 25,
   "metadata": {
    "scrolled": true
   },
   "outputs": [],
   "source": [
    "# init = time()\n",
    "# jobs = []\n",
    "# for fold in range(K):\n",
    "#     for ts in range(n_ts):\n",
    "#         jobs.append('python scripts/process_gp_rbf.py {0} {1}'.format(ts, fold))\n",
    "\n",
    "# print('starting',len(jobs),'jobs on',psutil.cpu_count(),'CPUs')\n",
    "# sleep(1)\n",
    "# n_splits = len(jobs)//64+1\n",
    "# for b_id, batch in enumerate(np.array_split(jobs, n_splits)):\n",
    "#     print('start',b_id+1,'of',n_splits)\n",
    "#     print('length of batch=',len(batch))\n",
    "#     os.system(' | '.join(batch))\n",
    "#     clear_output(wait=True)\n",
    "#     print('end',b_id+1,'of',n_splits)\n",
    "# print((time()-init)/60, 'minutes. all fold complete')"
   ]
  },
  {
   "cell_type": "markdown",
   "metadata": {},
   "source": [
    "### RMSE calculation"
   ]
  },
  {
   "cell_type": "code",
   "execution_count": 26,
   "metadata": {},
   "outputs": [
    {
     "name": "stdout",
     "output_type": "stream",
     "text": [
      "Fold 0 mean_rmse 23.76587720231541\n",
      "Fold 0 individual_rmse 26.610777278549186\n",
      "Fold 1 mean_rmse 18.763100664774672\n",
      "Fold 1 individual_rmse 21.57029630698414\n",
      "Fold 2 mean_rmse 23.061756002838482\n",
      "Fold 2 individual_rmse 24.955738292569148\n",
      "Overall RMSE (individual) 24.469028204833727\n",
      "Overall RMSE (mean of folds) 21.863577956642853\n"
     ]
    },
    {
     "data": {
      "text/plain": [
       "100.0    15\n",
       "1.0       4\n",
       "0.1       3\n",
       "10.0      2\n",
       "dtype: int64"
      ]
     },
     "execution_count": 26,
     "metadata": {},
     "output_type": "execute_result"
    }
   ],
   "source": [
    "path = 'results/raw_gp_rbf/'\n",
    "name = 'stat_gp_rbf'\n",
    "master_df[name] = None\n",
    "preds = []\n",
    "tests = []\n",
    "mean_rmse_per_fold = []\n",
    "success = []\n",
    "n_fold_rmse = []\n",
    "for fold in folds:\n",
    "    hyp = []\n",
    "    fold_rmse = []\n",
    "    tmp_preds_y = []\n",
    "    tmp_models = []\n",
    "    tmp_tests_y = []\n",
    "    tmp_tests_x = []\n",
    "    tmp_train_Xy = []\n",
    "    for ts_n, ts in enumerate(df.index.unique()[:n_ts]):\n",
    "        try:\n",
    "            tmp = pd.read_pickle(path+'ts_'+str(ts)+'_fold_'+str(fold))\n",
    "            hyp.append(tmp['best_hyperpara']['ls_init'])\n",
    "            preds.append(tmp['pred_y'].squeeze())\n",
    "            tests.append(tmp['test_y'].squeeze())\n",
    "            tmp_models.append(tmp['best_model'])\n",
    "            tmp_train_Xy.append(tmp['train_Xy'])\n",
    "            tmp_tests_x.append(tmp['test_Xy'][0].squeeze())\n",
    "            tmp_preds_y.append(tmp['pred_y'].squeeze())\n",
    "            tmp_tests_y.append(tmp['test_y'].squeeze())\n",
    "            success.append(path+'ts_'+str(ts)+'_fold_'+str(fold))\n",
    "            fold_rmse.append(mean_squared_error(tmp_tests_y[-1], tmp_preds_y[-1], squared=False))\n",
    "            master_df.loc[(str(ts_n), str(ts), str(fold)),name] = mean_squared_error(tmp_tests_y[-1], tmp_preds_y[-1], squared=False)\n",
    "        except:\n",
    "            pass\n",
    "    print('Fold',fold,'mean_rmse',np.mean(fold_rmse))\n",
    "    mean_rmse_per_fold.append(np.mean(fold_rmse))\n",
    "    print(\"Fold\",fold,'individual_rmse',mean_squared_error(np.array(tmp_tests_y).flatten(), np.array(tmp_preds_y).flatten(), squared=False))\n",
    "print(\"Overall RMSE (individual)\", mean_squared_error(np.array(tests).flatten(), np.array(preds).flatten(), squared=False))\n",
    "print(\"Overall RMSE (mean of folds)\", np.mean(mean_rmse_per_fold))\n",
    "pd.Series(hyp).value_counts()"
   ]
  },
  {
   "cell_type": "markdown",
   "metadata": {},
   "source": [
    "## K fold GP - Matern"
   ]
  },
  {
   "cell_type": "code",
   "execution_count": 27,
   "metadata": {},
   "outputs": [],
   "source": [
    "path = 'results/raw_gp_matern/'\n",
    "n_ts = 24"
   ]
  },
  {
   "cell_type": "code",
   "execution_count": 28,
   "metadata": {},
   "outputs": [],
   "source": [
    "# Check if works\n",
    "# !python scripts/process_gp_matern.py 0 0"
   ]
  },
  {
   "cell_type": "markdown",
   "metadata": {},
   "source": [
    "### Training"
   ]
  },
  {
   "cell_type": "code",
   "execution_count": 29,
   "metadata": {
    "scrolled": true
   },
   "outputs": [],
   "source": [
    "# init = time()\n",
    "# jobs = []\n",
    "# for fold in range(K):\n",
    "#     for ts in range(n_ts):\n",
    "#         jobs.append('python scripts/process_gp_matern.py {0} {1}'.format(ts, fold))\n",
    "\n",
    "# print('starting',len(jobs),'jobs on',psutil.cpu_count(),'CPUs')\n",
    "# sleep(1)\n",
    "# n_splits = len(jobs)//64+1\n",
    "# for b_id, batch in enumerate(np.array_split(jobs, n_splits)):\n",
    "#     print('start',b_id+1,'of',n_splits)\n",
    "#     print('length of batch=',len(batch))\n",
    "#     os.system(' | '.join(batch))\n",
    "#     clear_output(wait=True)\n",
    "#     print('end',b_id+1,'of',n_splits)\n",
    "# print((time()-init)/60, 'minutes. all fold complete')"
   ]
  },
  {
   "cell_type": "markdown",
   "metadata": {},
   "source": [
    "### RMSE calculation"
   ]
  },
  {
   "cell_type": "code",
   "execution_count": 30,
   "metadata": {},
   "outputs": [
    {
     "name": "stdout",
     "output_type": "stream",
     "text": [
      "Fold 0 mean_rmse 23.042371974442414\n",
      "Fold 0 individual_rmse 26.20930684232478\n",
      "Fold 1 mean_rmse 19.049127576989353\n",
      "Fold 1 individual_rmse 21.716335880678145\n",
      "Fold 2 mean_rmse 22.634774057374443\n",
      "Fold 2 individual_rmse 24.555288494230574\n",
      "Overall RMSE (individual) 24.2314479019342\n",
      "Overall RMSE (mean of folds) 21.575424536268738\n"
     ]
    },
    {
     "data": {
      "text/plain": [
       "100.0    12\n",
       "0.1       5\n",
       "10.0      4\n",
       "1.0       3\n",
       "dtype: int64"
      ]
     },
     "execution_count": 30,
     "metadata": {},
     "output_type": "execute_result"
    }
   ],
   "source": [
    "path = 'results/raw_gp_matern/'\n",
    "name = 'stat_gp_matern'\n",
    "master_df[name] = None\n",
    "preds = []\n",
    "tests = []\n",
    "mean_rmse_per_fold = []\n",
    "success = []\n",
    "n_fold_rmse = []\n",
    "for fold in folds:\n",
    "    hyp = []\n",
    "    fold_rmse = []\n",
    "    tmp_preds_y = []\n",
    "    tmp_models = []\n",
    "    tmp_tests_y = []\n",
    "    tmp_tests_x = []\n",
    "    tmp_train_Xy = []\n",
    "    for ts_n, ts in enumerate(df.index.unique()[:n_ts]):\n",
    "        try:\n",
    "            tmp = pd.read_pickle(path+'ts_'+str(ts)+'_fold_'+str(fold))\n",
    "            hyp.append(tmp['best_hyperpara']['ls_init'])\n",
    "            preds.append(tmp['pred_y'].squeeze())\n",
    "            tests.append(tmp['test_y'].squeeze())\n",
    "            tmp_models.append(tmp['best_model'])\n",
    "            tmp_train_Xy.append(tmp['train_Xy'])\n",
    "            tmp_tests_x.append(tmp['test_Xy'][0].squeeze())\n",
    "            tmp_preds_y.append(tmp['pred_y'].squeeze())\n",
    "            tmp_tests_y.append(tmp['test_y'].squeeze())\n",
    "            success.append(path+'ts_'+str(ts)+'_fold_'+str(fold))\n",
    "            fold_rmse.append(mean_squared_error(tmp_tests_y[-1], tmp_preds_y[-1], squared=False))\n",
    "            master_df.loc[(str(ts_n), str(ts), str(fold)),name] = mean_squared_error(tmp_tests_y[-1], tmp_preds_y[-1], squared=False)\n",
    "        except:\n",
    "            pass\n",
    "    print('Fold',fold,'mean_rmse',np.mean(fold_rmse))\n",
    "    mean_rmse_per_fold.append(np.mean(fold_rmse))\n",
    "    print(\"Fold\",fold,'individual_rmse',mean_squared_error(np.array(tmp_tests_y).flatten(), np.array(tmp_preds_y).flatten(), squared=False))\n",
    "print(\"Overall RMSE (individual)\", mean_squared_error(np.array(tests).flatten(), np.array(preds).flatten(), squared=False))\n",
    "print(\"Overall RMSE (mean of folds)\", np.mean(mean_rmse_per_fold))\n",
    "pd.Series(hyp).value_counts()"
   ]
  },
  {
   "cell_type": "markdown",
   "metadata": {},
   "source": [
    "## Appendix and Analysis"
   ]
  },
  {
   "cell_type": "code",
   "execution_count": 31,
   "metadata": {},
   "outputs": [],
   "source": [
    "master_df_pruned = master_df.dropna(how='all')"
   ]
  },
  {
   "cell_type": "code",
   "execution_count": 38,
   "metadata": {
    "scrolled": true
   },
   "outputs": [
    {
     "data": {
      "text/html": [
       "<div>\n",
       "<style scoped>\n",
       "    .dataframe tbody tr th:only-of-type {\n",
       "        vertical-align: middle;\n",
       "    }\n",
       "\n",
       "    .dataframe tbody tr th {\n",
       "        vertical-align: top;\n",
       "    }\n",
       "\n",
       "    .dataframe thead th {\n",
       "        text-align: right;\n",
       "    }\n",
       "</style>\n",
       "<table border=\"1\" class=\"dataframe\">\n",
       "  <thead>\n",
       "    <tr style=\"text-align: right;\">\n",
       "      <th></th>\n",
       "      <th></th>\n",
       "      <th></th>\n",
       "      <th>lls_matern</th>\n",
       "      <th>lls_matern_model</th>\n",
       "      <th>lls_rbf</th>\n",
       "      <th>kriging</th>\n",
       "      <th>stat_gp_rbf</th>\n",
       "      <th>stat_gp_matern</th>\n",
       "    </tr>\n",
       "  </thead>\n",
       "  <tbody>\n",
       "    <tr>\n",
       "      <th>15</th>\n",
       "      <th>2014-05-01 19:00:00</th>\n",
       "      <th>0</th>\n",
       "      <td>79.0784</td>\n",
       "      <td>&lt;NSGPy.NumPy.latent_lengthscale_model.latent_l...</td>\n",
       "      <td>52.5627</td>\n",
       "      <td>50.4421</td>\n",
       "      <td>53.322</td>\n",
       "      <td>51.8759</td>\n",
       "    </tr>\n",
       "    <tr>\n",
       "      <th>14</th>\n",
       "      <th>2014-05-01 18:00:00</th>\n",
       "      <th>2</th>\n",
       "      <td>69.6368</td>\n",
       "      <td>&lt;NSGPy.NumPy.latent_lengthscale_model.latent_l...</td>\n",
       "      <td>40.7253</td>\n",
       "      <td>33.8793</td>\n",
       "      <td>29.9512</td>\n",
       "      <td>30.1241</td>\n",
       "    </tr>\n",
       "    <tr>\n",
       "      <th>20</th>\n",
       "      <th>2014-05-02 01:00:00</th>\n",
       "      <th>1</th>\n",
       "      <td>55.1097</td>\n",
       "      <td>&lt;NSGPy.NumPy.latent_lengthscale_model.latent_l...</td>\n",
       "      <td>54.2332</td>\n",
       "      <td>54.3333</td>\n",
       "      <td>54.3487</td>\n",
       "      <td>54.3487</td>\n",
       "    </tr>\n",
       "    <tr>\n",
       "      <th>8</th>\n",
       "      <th>2014-05-01 12:00:00</th>\n",
       "      <th>2</th>\n",
       "      <td>55.0207</td>\n",
       "      <td>&lt;NSGPy.NumPy.latent_lengthscale_model.latent_l...</td>\n",
       "      <td>25.6862</td>\n",
       "      <td>25.5653</td>\n",
       "      <td>25.7281</td>\n",
       "      <td>25.7433</td>\n",
       "    </tr>\n",
       "    <tr>\n",
       "      <th>16</th>\n",
       "      <th>2014-05-01 21:00:00</th>\n",
       "      <th>0</th>\n",
       "      <td>52.8115</td>\n",
       "      <td>&lt;NSGPy.NumPy.latent_lengthscale_model.latent_l...</td>\n",
       "      <td>51.2618</td>\n",
       "      <td>50.704</td>\n",
       "      <td>51.275</td>\n",
       "      <td>51.3797</td>\n",
       "    </tr>\n",
       "    <tr>\n",
       "      <th>...</th>\n",
       "      <th>...</th>\n",
       "      <th>...</th>\n",
       "      <td>...</td>\n",
       "      <td>...</td>\n",
       "      <td>...</td>\n",
       "      <td>...</td>\n",
       "      <td>...</td>\n",
       "      <td>...</td>\n",
       "    </tr>\n",
       "    <tr>\n",
       "      <th>19</th>\n",
       "      <th>2014-05-02 00:00:00</th>\n",
       "      <th>1</th>\n",
       "      <td>9.51039</td>\n",
       "      <td>&lt;NSGPy.NumPy.latent_lengthscale_model.latent_l...</td>\n",
       "      <td>9.46285</td>\n",
       "      <td>10.4595</td>\n",
       "      <td>10.4084</td>\n",
       "      <td>10.4027</td>\n",
       "    </tr>\n",
       "    <tr>\n",
       "      <th rowspan=\"2\" valign=\"top\">22</th>\n",
       "      <th rowspan=\"2\" valign=\"top\">2014-05-02 03:00:00</th>\n",
       "      <th>2</th>\n",
       "      <td>7.47419</td>\n",
       "      <td>&lt;NSGPy.NumPy.latent_lengthscale_model.latent_l...</td>\n",
       "      <td>7.35378</td>\n",
       "      <td>7.96888</td>\n",
       "      <td>7.37382</td>\n",
       "      <td>7.37944</td>\n",
       "    </tr>\n",
       "    <tr>\n",
       "      <th>0</th>\n",
       "      <td>6.64781</td>\n",
       "      <td>&lt;NSGPy.NumPy.latent_lengthscale_model.latent_l...</td>\n",
       "      <td>6.37928</td>\n",
       "      <td>6.22665</td>\n",
       "      <td>7.60941</td>\n",
       "      <td>7.69981</td>\n",
       "    </tr>\n",
       "    <tr>\n",
       "      <th>21</th>\n",
       "      <th>2014-05-02 02:00:00</th>\n",
       "      <th>0</th>\n",
       "      <td>6.48147</td>\n",
       "      <td>&lt;NSGPy.NumPy.latent_lengthscale_model.latent_l...</td>\n",
       "      <td>6.483</td>\n",
       "      <td>6.56755</td>\n",
       "      <td>7.61375</td>\n",
       "      <td>7.73343</td>\n",
       "    </tr>\n",
       "    <tr>\n",
       "      <th>22</th>\n",
       "      <th>2014-05-02 03:00:00</th>\n",
       "      <th>1</th>\n",
       "      <td>5.65938</td>\n",
       "      <td>&lt;NSGPy.NumPy.latent_lengthscale_model.latent_l...</td>\n",
       "      <td>5.69599</td>\n",
       "      <td>5.88574</td>\n",
       "      <td>5.69804</td>\n",
       "      <td>5.70548</td>\n",
       "    </tr>\n",
       "  </tbody>\n",
       "</table>\n",
       "<p>72 rows × 6 columns</p>\n",
       "</div>"
      ],
      "text/plain": [
       "                         lls_matern  \\\n",
       "15 2014-05-01 19:00:00 0    79.0784   \n",
       "14 2014-05-01 18:00:00 2    69.6368   \n",
       "20 2014-05-02 01:00:00 1    55.1097   \n",
       "8  2014-05-01 12:00:00 2    55.0207   \n",
       "16 2014-05-01 21:00:00 0    52.8115   \n",
       "...                             ...   \n",
       "19 2014-05-02 00:00:00 1    9.51039   \n",
       "22 2014-05-02 03:00:00 2    7.47419   \n",
       "                       0    6.64781   \n",
       "21 2014-05-02 02:00:00 0    6.48147   \n",
       "22 2014-05-02 03:00:00 1    5.65938   \n",
       "\n",
       "                                                           lls_matern_model  \\\n",
       "15 2014-05-01 19:00:00 0  <NSGPy.NumPy.latent_lengthscale_model.latent_l...   \n",
       "14 2014-05-01 18:00:00 2  <NSGPy.NumPy.latent_lengthscale_model.latent_l...   \n",
       "20 2014-05-02 01:00:00 1  <NSGPy.NumPy.latent_lengthscale_model.latent_l...   \n",
       "8  2014-05-01 12:00:00 2  <NSGPy.NumPy.latent_lengthscale_model.latent_l...   \n",
       "16 2014-05-01 21:00:00 0  <NSGPy.NumPy.latent_lengthscale_model.latent_l...   \n",
       "...                                                                     ...   \n",
       "19 2014-05-02 00:00:00 1  <NSGPy.NumPy.latent_lengthscale_model.latent_l...   \n",
       "22 2014-05-02 03:00:00 2  <NSGPy.NumPy.latent_lengthscale_model.latent_l...   \n",
       "                       0  <NSGPy.NumPy.latent_lengthscale_model.latent_l...   \n",
       "21 2014-05-02 02:00:00 0  <NSGPy.NumPy.latent_lengthscale_model.latent_l...   \n",
       "22 2014-05-02 03:00:00 1  <NSGPy.NumPy.latent_lengthscale_model.latent_l...   \n",
       "\n",
       "                          lls_rbf  kriging stat_gp_rbf stat_gp_matern  \n",
       "15 2014-05-01 19:00:00 0  52.5627  50.4421      53.322        51.8759  \n",
       "14 2014-05-01 18:00:00 2  40.7253  33.8793     29.9512        30.1241  \n",
       "20 2014-05-02 01:00:00 1  54.2332  54.3333     54.3487        54.3487  \n",
       "8  2014-05-01 12:00:00 2  25.6862  25.5653     25.7281        25.7433  \n",
       "16 2014-05-01 21:00:00 0  51.2618   50.704      51.275        51.3797  \n",
       "...                           ...      ...         ...            ...  \n",
       "19 2014-05-02 00:00:00 1  9.46285  10.4595     10.4084        10.4027  \n",
       "22 2014-05-02 03:00:00 2  7.35378  7.96888     7.37382        7.37944  \n",
       "                       0  6.37928  6.22665     7.60941        7.69981  \n",
       "21 2014-05-02 02:00:00 0    6.483  6.56755     7.61375        7.73343  \n",
       "22 2014-05-02 03:00:00 1  5.69599  5.88574     5.69804        5.70548  \n",
       "\n",
       "[72 rows x 6 columns]"
      ]
     },
     "execution_count": 38,
     "metadata": {},
     "output_type": "execute_result"
    }
   ],
   "source": [
    "pd.set_option('display.max_rows', 50)\n",
    "lets_see = master_df_pruned.sort_values(['lls_matern'], ascending=False)\n",
    "lets_see"
   ]
  },
  {
   "cell_type": "code",
   "execution_count": 33,
   "metadata": {},
   "outputs": [
    {
     "data": {
      "text/plain": [
       "lls_matern        24.557542\n",
       "lls_rbf           23.867059\n",
       "kriging           22.150203\n",
       "stat_gp_rbf       21.863578\n",
       "stat_gp_matern    21.575425\n",
       "dtype: float64"
      ]
     },
     "execution_count": 33,
     "metadata": {},
     "output_type": "execute_result"
    }
   ],
   "source": [
    "lets_see.mean() # Mean rmse across all time-stamps"
   ]
  },
  {
   "cell_type": "code",
   "execution_count": 19,
   "metadata": {},
   "outputs": [
    {
     "name": "stdout",
     "output_type": "stream",
     "text": [
      "56.84330458665263 8\r\n",
      "test_y [115, 157, 150, 64, 145, 153, 136, 85, 137, 174, 159, 99]\r\n",
      "pred_y [34, 70, 119, 76, 80, 124, 102, 115, 93, 117, 98, 9]\r\n",
      "len [[ 0.0062672  -0.05878688]\r\n",
      " [-1.55257419 -0.29087002]\r\n",
      " [-1.20405076 -0.91865453]\r\n",
      " [-0.88923435  1.151472  ]\r\n",
      " [-0.51477134 -2.43892423]\r\n",
      " [-0.01187286 -0.60414155]\r\n",
      " [ 0.25259967 -0.37332047]\r\n",
      " [ 0.05952119 -0.55104791]\r\n",
      " [ 1.43330296 -0.55748694]\r\n",
      " [-1.19119598  0.5007697 ]\r\n",
      " [-1.39184396 -1.29140207]\r\n",
      " [ 3.76480064  0.77028676]]\r\n",
      "{'likelihood (mll)': 73.64919858151589, 'GP_variance (sigma_f)': array([227.49335149]), 'GP_noise_level (sigma_n)': array([1.e-05]), 'L_GP_variance (sigma_f_bar)': array([1., 1.]), 'L_GP_lengthscale (sigma_l_bar)': array([1.e-05, 1.e-05]), 'L_GP_noise_level (sigma_n_bar)': array([1.e-05, 1.e-05]), 'N_lengthscales (l_bar)': array([[110.60023466,  73.34023065],\r\n",
      "       [  1.10231994,   0.86779805],\r\n",
      "       [101.24590959,  77.80664803],\r\n",
      "       [ 94.04267455,  83.51167367],\r\n",
      "       [117.55323654,  68.71873498],\r\n",
      "       [ 96.47044885,  81.58089975],\r\n",
      "       [100.44575126,  78.17672216],\r\n",
      "       [ 75.50935993, 101.81582812]])}\r\n"
     ]
    }
   ],
   "source": [
    "!python scripts/process_gp_lls_self_greedy.py 14 2 matern 24"
   ]
  },
  {
   "cell_type": "code",
   "execution_count": 20,
   "metadata": {},
   "outputs": [
    {
     "data": {
      "text/plain": [
       "{'likelihood (mll)': 73.64919858151589,\n",
       " 'GP_variance (sigma_f)': array([227.49335149]),\n",
       " 'GP_noise_level (sigma_n)': array([1.e-05]),\n",
       " 'L_GP_variance (sigma_f_bar)': array([1., 1.]),\n",
       " 'L_GP_lengthscale (sigma_l_bar)': array([1.e-05, 1.e-05]),\n",
       " 'L_GP_noise_level (sigma_n_bar)': array([1.e-05, 1.e-05]),\n",
       " 'N_lengthscales (l_bar)': array([[110.60023466,  73.34023065],\n",
       "        [  1.10231994,   0.86779805],\n",
       "        [101.24590959,  77.80664803],\n",
       "        [ 94.04267455,  83.51167367],\n",
       "        [117.55323654,  68.71873498],\n",
       "        [ 96.47044885,  81.58089975],\n",
       "        [100.44575126,  78.17672216],\n",
       "        [ 75.50935993, 101.81582812]])}"
      ]
     },
     "execution_count": 20,
     "metadata": {},
     "output_type": "execute_result"
    }
   ],
   "source": [
    "test_model = pd.read_pickle('scripts/scratch/test_model')\n",
    "original_params = test_model.params\n",
    "test_model.params"
   ]
  },
  {
   "cell_type": "code",
   "execution_count": 22,
   "metadata": {},
   "outputs": [
    {
     "data": {
      "text/plain": [
       "<matplotlib.collections.PathCollection at 0x7f901fa3e190>"
      ]
     },
     "execution_count": 22,
     "metadata": {},
     "output_type": "execute_result"
    },
    {
     "data": {
      "image/png": "[encoded data removed]",
      "text/plain": [
       "<Figure size 432x288 with 1 Axes>"
      ]
     },
     "metadata": {
      "needs_background": "light"
     },
     "output_type": "display_data"
    }
   ],
   "source": [
    "plt.scatter(test_model.X[:,1], test_model.y, s=100, label='train')\n",
    "plt.scatter(test_model.X_star[:,1], )\n",
    "plt.scatter(test_model.X[:,1], test_model.predict(test_model.X, False).squeeze(), label='train-predict')\n"
   ]
  },
  {
   "cell_type": "code",
   "execution_count": 8,
   "metadata": {},
   "outputs": [
    {
     "data": {
      "text/plain": [
       "(54.59796980129667,\n",
       " array([[ 10.        ,   1.        ],\n",
       "        [  1.        ,   0.86779805],\n",
       "        [101.24590959,  77.80664803],\n",
       "        [ 94.04267455,  83.51167367],\n",
       "        [117.55323654,  68.71873498],\n",
       "        [ 96.47044885,  81.58089975],\n",
       "        [100.44575126,  78.17672216],\n",
       "        [ 75.50935993, 101.81582812]]))"
      ]
     },
     "execution_count": 8,
     "metadata": {},
     "output_type": "execute_result"
    }
   ],
   "source": [
    "test_model.l_bar[0,0] = 10\n",
    "test_model.l_bar[0,1] = 1\n",
    "test_model.l_bar[1,0] = 1\n",
    "mean_squared_error([148, 99, 143, 67, 101, 130, 182, 82, 174, 130, 71, 103],\n",
    "                   test_model.predict(test_model.X_star, False), squared=False),\\\n",
    "test_model.l_bar"
   ]
  },
  {
   "cell_type": "code",
   "execution_count": null,
   "metadata": {},
   "outputs": [],
   "source": []
  }
 ],
 "metadata": {
  "colab": {
   "authorship_tag": "ABX9TyP6k4WgBqgL+Y9j9KIJPQp/",
   "collapsed_sections": [],
   "include_colab_link": true,
   "name": "GP_Extra_LLS_self_implement.ipynb",
   "provenance": []
  },
  "kernelspec": {
   "display_name": "Python 3",
   "language": "python",
   "name": "python3"
  },
  "language_info": {
   "codemirror_mode": {
    "name": "ipython",
    "version": 3
   },
   "file_extension": ".py",
   "mimetype": "text/x-python",
   "name": "python",
   "nbconvert_exporter": "python",
   "pygments_lexer": "ipython3",
   "version": "3.7.9"
  }
 },
 "nbformat": 4,
 "nbformat_minor": 1
}
