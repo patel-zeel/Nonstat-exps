{
 "cells": [
  {
   "cell_type": "code",
   "execution_count": 1,
   "metadata": {},
   "outputs": [
    {
     "name": "stdout",
     "output_type": "stream",
     "text": [
      "WARNING:tensorflow:From /home/patel_zeel/anaconda3/lib/python3.7/site-packages/gpflow-1.5.1-py3.7.egg/gpflow/session_manager.py:31: The name tf.Session is deprecated. Please use tf.compat.v1.Session instead.\n",
      "\n"
     ]
    },
    {
     "name": "stderr",
     "output_type": "stream",
     "text": [
      "WARNING:tensorflow:From /home/patel_zeel/anaconda3/lib/python3.7/site-packages/gpflow-1.5.1-py3.7.egg/gpflow/session_manager.py:31: The name tf.Session is deprecated. Please use tf.compat.v1.Session instead.\n",
      "\n"
     ]
    },
    {
     "name": "stdout",
     "output_type": "stream",
     "text": [
      "WARNING:tensorflow:From /home/patel_zeel/anaconda3/lib/python3.7/site-packages/gpflow-1.5.1-py3.7.egg/gpflow/misc.py:27: The name tf.GraphKeys is deprecated. Please use tf.compat.v1.GraphKeys instead.\n",
      "\n"
     ]
    },
    {
     "name": "stderr",
     "output_type": "stream",
     "text": [
      "WARNING:tensorflow:From /home/patel_zeel/anaconda3/lib/python3.7/site-packages/gpflow-1.5.1-py3.7.egg/gpflow/misc.py:27: The name tf.GraphKeys is deprecated. Please use tf.compat.v1.GraphKeys instead.\n",
      "\n"
     ]
    },
    {
     "name": "stdout",
     "output_type": "stream",
     "text": [
      "WARNING:tensorflow:From /home/patel_zeel/anaconda3/lib/python3.7/site-packages/gpflow-1.5.1-py3.7.egg/gpflow/training/tensorflow_optimizer.py:169: The name tf.train.AdadeltaOptimizer is deprecated. Please use tf.compat.v1.train.AdadeltaOptimizer instead.\n",
      "\n"
     ]
    },
    {
     "name": "stderr",
     "output_type": "stream",
     "text": [
      "WARNING:tensorflow:From /home/patel_zeel/anaconda3/lib/python3.7/site-packages/gpflow-1.5.1-py3.7.egg/gpflow/training/tensorflow_optimizer.py:169: The name tf.train.AdadeltaOptimizer is deprecated. Please use tf.compat.v1.train.AdadeltaOptimizer instead.\n",
      "\n"
     ]
    },
    {
     "name": "stdout",
     "output_type": "stream",
     "text": [
      "WARNING:tensorflow:From /home/patel_zeel/anaconda3/lib/python3.7/site-packages/gpflow-1.5.1-py3.7.egg/gpflow/training/tensorflow_optimizer.py:156: The name tf.train.Optimizer is deprecated. Please use tf.compat.v1.train.Optimizer instead.\n",
      "\n"
     ]
    },
    {
     "name": "stderr",
     "output_type": "stream",
     "text": [
      "WARNING:tensorflow:From /home/patel_zeel/anaconda3/lib/python3.7/site-packages/gpflow-1.5.1-py3.7.egg/gpflow/training/tensorflow_optimizer.py:156: The name tf.train.Optimizer is deprecated. Please use tf.compat.v1.train.Optimizer instead.\n",
      "\n"
     ]
    },
    {
     "name": "stdout",
     "output_type": "stream",
     "text": [
      "WARNING:tensorflow:From /home/patel_zeel/anaconda3/lib/python3.7/site-packages/gpflow-1.5.1-py3.7.egg/gpflow/training/tensorflow_optimizer.py:169: The name tf.train.AdagradDAOptimizer is deprecated. Please use tf.compat.v1.train.AdagradDAOptimizer instead.\n",
      "\n"
     ]
    },
    {
     "name": "stderr",
     "output_type": "stream",
     "text": [
      "WARNING:tensorflow:From /home/patel_zeel/anaconda3/lib/python3.7/site-packages/gpflow-1.5.1-py3.7.egg/gpflow/training/tensorflow_optimizer.py:169: The name tf.train.AdagradDAOptimizer is deprecated. Please use tf.compat.v1.train.AdagradDAOptimizer instead.\n",
      "\n"
     ]
    },
    {
     "name": "stdout",
     "output_type": "stream",
     "text": [
      "WARNING:tensorflow:From /home/patel_zeel/anaconda3/lib/python3.7/site-packages/gpflow-1.5.1-py3.7.egg/gpflow/training/tensorflow_optimizer.py:169: The name tf.train.AdagradOptimizer is deprecated. Please use tf.compat.v1.train.AdagradOptimizer instead.\n",
      "\n"
     ]
    },
    {
     "name": "stderr",
     "output_type": "stream",
     "text": [
      "WARNING:tensorflow:From /home/patel_zeel/anaconda3/lib/python3.7/site-packages/gpflow-1.5.1-py3.7.egg/gpflow/training/tensorflow_optimizer.py:169: The name tf.train.AdagradOptimizer is deprecated. Please use tf.compat.v1.train.AdagradOptimizer instead.\n",
      "\n"
     ]
    },
    {
     "name": "stdout",
     "output_type": "stream",
     "text": [
      "WARNING:tensorflow:From /home/patel_zeel/anaconda3/lib/python3.7/site-packages/gpflow-1.5.1-py3.7.egg/gpflow/training/tensorflow_optimizer.py:169: The name tf.train.AdamOptimizer is deprecated. Please use tf.compat.v1.train.AdamOptimizer instead.\n",
      "\n"
     ]
    },
    {
     "name": "stderr",
     "output_type": "stream",
     "text": [
      "WARNING:tensorflow:From /home/patel_zeel/anaconda3/lib/python3.7/site-packages/gpflow-1.5.1-py3.7.egg/gpflow/training/tensorflow_optimizer.py:169: The name tf.train.AdamOptimizer is deprecated. Please use tf.compat.v1.train.AdamOptimizer instead.\n",
      "\n"
     ]
    },
    {
     "name": "stdout",
     "output_type": "stream",
     "text": [
      "WARNING:tensorflow:From /home/patel_zeel/anaconda3/lib/python3.7/site-packages/gpflow-1.5.1-py3.7.egg/gpflow/training/tensorflow_optimizer.py:169: The name tf.train.FtrlOptimizer is deprecated. Please use tf.compat.v1.train.FtrlOptimizer instead.\n",
      "\n"
     ]
    },
    {
     "name": "stderr",
     "output_type": "stream",
     "text": [
      "WARNING:tensorflow:From /home/patel_zeel/anaconda3/lib/python3.7/site-packages/gpflow-1.5.1-py3.7.egg/gpflow/training/tensorflow_optimizer.py:169: The name tf.train.FtrlOptimizer is deprecated. Please use tf.compat.v1.train.FtrlOptimizer instead.\n",
      "\n"
     ]
    },
    {
     "name": "stdout",
     "output_type": "stream",
     "text": [
      "WARNING:tensorflow:From /home/patel_zeel/anaconda3/lib/python3.7/site-packages/gpflow-1.5.1-py3.7.egg/gpflow/training/tensorflow_optimizer.py:169: The name tf.train.GradientDescentOptimizer is deprecated. Please use tf.compat.v1.train.GradientDescentOptimizer instead.\n",
      "\n"
     ]
    },
    {
     "name": "stderr",
     "output_type": "stream",
     "text": [
      "WARNING:tensorflow:From /home/patel_zeel/anaconda3/lib/python3.7/site-packages/gpflow-1.5.1-py3.7.egg/gpflow/training/tensorflow_optimizer.py:169: The name tf.train.GradientDescentOptimizer is deprecated. Please use tf.compat.v1.train.GradientDescentOptimizer instead.\n",
      "\n"
     ]
    },
    {
     "name": "stdout",
     "output_type": "stream",
     "text": [
      "WARNING:tensorflow:From /home/patel_zeel/anaconda3/lib/python3.7/site-packages/gpflow-1.5.1-py3.7.egg/gpflow/training/tensorflow_optimizer.py:169: The name tf.train.MomentumOptimizer is deprecated. Please use tf.compat.v1.train.MomentumOptimizer instead.\n",
      "\n"
     ]
    },
    {
     "name": "stderr",
     "output_type": "stream",
     "text": [
      "WARNING:tensorflow:From /home/patel_zeel/anaconda3/lib/python3.7/site-packages/gpflow-1.5.1-py3.7.egg/gpflow/training/tensorflow_optimizer.py:169: The name tf.train.MomentumOptimizer is deprecated. Please use tf.compat.v1.train.MomentumOptimizer instead.\n",
      "\n"
     ]
    },
    {
     "name": "stdout",
     "output_type": "stream",
     "text": [
      "WARNING:tensorflow:From /home/patel_zeel/anaconda3/lib/python3.7/site-packages/gpflow-1.5.1-py3.7.egg/gpflow/training/tensorflow_optimizer.py:169: The name tf.train.ProximalAdagradOptimizer is deprecated. Please use tf.compat.v1.train.ProximalAdagradOptimizer instead.\n",
      "\n"
     ]
    },
    {
     "name": "stderr",
     "output_type": "stream",
     "text": [
      "WARNING:tensorflow:From /home/patel_zeel/anaconda3/lib/python3.7/site-packages/gpflow-1.5.1-py3.7.egg/gpflow/training/tensorflow_optimizer.py:169: The name tf.train.ProximalAdagradOptimizer is deprecated. Please use tf.compat.v1.train.ProximalAdagradOptimizer instead.\n",
      "\n"
     ]
    },
    {
     "name": "stdout",
     "output_type": "stream",
     "text": [
      "WARNING:tensorflow:From /home/patel_zeel/anaconda3/lib/python3.7/site-packages/gpflow-1.5.1-py3.7.egg/gpflow/training/tensorflow_optimizer.py:169: The name tf.train.ProximalGradientDescentOptimizer is deprecated. Please use tf.compat.v1.train.ProximalGradientDescentOptimizer instead.\n",
      "\n"
     ]
    },
    {
     "name": "stderr",
     "output_type": "stream",
     "text": [
      "WARNING:tensorflow:From /home/patel_zeel/anaconda3/lib/python3.7/site-packages/gpflow-1.5.1-py3.7.egg/gpflow/training/tensorflow_optimizer.py:169: The name tf.train.ProximalGradientDescentOptimizer is deprecated. Please use tf.compat.v1.train.ProximalGradientDescentOptimizer instead.\n",
      "\n"
     ]
    },
    {
     "name": "stdout",
     "output_type": "stream",
     "text": [
      "WARNING:tensorflow:From /home/patel_zeel/anaconda3/lib/python3.7/site-packages/gpflow-1.5.1-py3.7.egg/gpflow/training/tensorflow_optimizer.py:169: The name tf.train.RMSPropOptimizer is deprecated. Please use tf.compat.v1.train.RMSPropOptimizer instead.\n",
      "\n"
     ]
    },
    {
     "name": "stderr",
     "output_type": "stream",
     "text": [
      "WARNING:tensorflow:From /home/patel_zeel/anaconda3/lib/python3.7/site-packages/gpflow-1.5.1-py3.7.egg/gpflow/training/tensorflow_optimizer.py:169: The name tf.train.RMSPropOptimizer is deprecated. Please use tf.compat.v1.train.RMSPropOptimizer instead.\n",
      "\n"
     ]
    },
    {
     "name": "stdout",
     "output_type": "stream",
     "text": [
      "WARNING:tensorflow:From /home/patel_zeel/anaconda3/lib/python3.7/site-packages/gpflow-1.5.1-py3.7.egg/gpflow/saver/coders.py:80: The name tf.data.Iterator is deprecated. Please use tf.compat.v1.data.Iterator instead.\n",
      "\n"
     ]
    },
    {
     "name": "stderr",
     "output_type": "stream",
     "text": [
      "WARNING:tensorflow:From /home/patel_zeel/anaconda3/lib/python3.7/site-packages/gpflow-1.5.1-py3.7.egg/gpflow/saver/coders.py:80: The name tf.data.Iterator is deprecated. Please use tf.compat.v1.data.Iterator instead.\n",
      "\n",
      "WARNING:matplotlib.style.core:In /home/patel_zeel/anaconda3/lib/python3.7/site-packages/matplotlib/mpl-data/stylelib/_classic_test.mplstyle: \n",
      "The text.latex.preview rcparam was deprecated in Matplotlib 3.3 and will be removed two minor releases later.\n",
      "WARNING:matplotlib.style.core:In /home/patel_zeel/anaconda3/lib/python3.7/site-packages/matplotlib/mpl-data/stylelib/_classic_test.mplstyle: \n",
      "The mathtext.fallback_to_cm rcparam was deprecated in Matplotlib 3.3 and will be removed two minor releases later.\n",
      "WARNING:matplotlib.style.core:In /home/patel_zeel/anaconda3/lib/python3.7/site-packages/matplotlib/mpl-data/stylelib/_classic_test.mplstyle: Support for setting the 'mathtext.fallback_to_cm' rcParam is deprecated since 3.3 and will be removed two minor releases later; use 'mathtext.fallback : 'cm' instead.\n",
      "WARNING:matplotlib.style.core:In /home/patel_zeel/anaconda3/lib/python3.7/site-packages/matplotlib/mpl-data/stylelib/_classic_test.mplstyle: \n",
      "The validate_bool_maybe_none function was deprecated in Matplotlib 3.3 and will be removed two minor releases later.\n",
      "WARNING:matplotlib.style.core:In /home/patel_zeel/anaconda3/lib/python3.7/site-packages/matplotlib/mpl-data/stylelib/_classic_test.mplstyle: \n",
      "The savefig.jpeg_quality rcparam was deprecated in Matplotlib 3.3 and will be removed two minor releases later.\n",
      "WARNING:matplotlib.style.core:In /home/patel_zeel/anaconda3/lib/python3.7/site-packages/matplotlib/mpl-data/stylelib/_classic_test.mplstyle: \n",
      "The keymap.all_axes rcparam was deprecated in Matplotlib 3.3 and will be removed two minor releases later.\n",
      "WARNING:matplotlib.style.core:In /home/patel_zeel/anaconda3/lib/python3.7/site-packages/matplotlib/mpl-data/stylelib/_classic_test.mplstyle: \n",
      "The animation.avconv_path rcparam was deprecated in Matplotlib 3.3 and will be removed two minor releases later.\n",
      "WARNING:matplotlib.style.core:In /home/patel_zeel/anaconda3/lib/python3.7/site-packages/matplotlib/mpl-data/stylelib/_classic_test.mplstyle: \n",
      "The animation.avconv_args rcparam was deprecated in Matplotlib 3.3 and will be removed two minor releases later.\n"
     ]
    }
   ],
   "source": [
    "from gpflow.models import GPR\n",
    "from gpflow.kernels import RBF, LLS\n",
    "import numpy as np\n",
    "import matplotlib.pyplot as plt\n",
    "from sklearn.preprocessing import StandardScaler\n",
    "import tensorflow as tf\n",
    "from gpflow.training.scipy_optimizer import ScipyOptimizer\n",
    "import logging\n",
    "logging.disable()"
   ]
  },
  {
   "cell_type": "code",
   "execution_count": 2,
   "metadata": {},
   "outputs": [
    {
     "name": "stdout",
     "output_type": "stream",
     "text": [
      "(20, 2) (20, 1) (120, 2)\n"
     ]
    }
   ],
   "source": [
    "scaler = StandardScaler()\n",
    "train_X1 = np.concatenate([np.linspace(0.25,0.51,10), np.linspace(0.49,0.75,10)]).reshape(-1,1)\n",
    "train_X2 = np.concatenate([np.linspace(0.49,0.75,10), np.linspace(0.25,0.51,10)]).reshape(-1,1)\n",
    "train_X = np.concatenate([train_X1, train_X2], axis=1)\n",
    "train_XX = scaler.fit_transform(train_X)\n",
    "test_X = np.hstack([np.linspace(0,1,120).reshape(-1,1), np.linspace(0,1,120).reshape(-1,1)])\n",
    "test_XX = scaler.transform(test_X)\n",
    "train_y = np.concatenate([np.ones((10, 1)), np.ones((10, 1))*2])\n",
    "print(train_XX.shape, train_y.shape, test_XX.shape)"
   ]
  },
  {
   "cell_type": "code",
   "execution_count": 13,
   "metadata": {
    "scrolled": true
   },
   "outputs": [
    {
     "data": {
      "image/png": "[encoded data removed]",
      "text/plain": [
       "<Figure size 864x576 with 4 Axes>"
      ]
     },
     "metadata": {
      "needs_background": "light"
     },
     "output_type": "display_data"
    }
   ],
   "source": [
    "with tf.Session() as t:\n",
    "    model = GPR(train_XX, train_y, LLS(2,train_XX,5, active_dims=[0, 1]))\n",
    "    opt = ScipyOptimizer()\n",
    "    fig, ax = plt.subplots(2,2, figsize=(12,8))\n",
    "    opt.minimize(model)\n",
    "    pred_y, cov_diag = model.predict_y(test_XX)\n",
    "    std2 = (cov_diag**0.5*2).squeeze() # 2 standrard deviations\n",
    "    lls = []\n",
    "    lls.append(model.kern.predict_lengthscales(test_XX, 0).eval())\n",
    "    lls.append(model.kern.predict_lengthscales(test_XX, 1).eval())\n",
    "    for i in range(2):\n",
    "        ax[i,0].scatter(train_XX[:,i], train_y)\n",
    "        ax[i,0].plot(test_XX[:,i], pred_y)\n",
    "        ax[i,0].fill_between(test_XX[:,i].squeeze(), pred_y.squeeze()-std2, pred_y.squeeze()+std2, alpha=0.2)\n",
    "        ax[i,0].vlines(model.kern.X_bar[:,i], min(pred_y.squeeze()-std2), max(pred_y.squeeze()+std2))\n",
    "        ax[i,1].plot(test_XX[:,i], lls[i], label='lengthscales')\n",
    "    plt.legend();"
   ]
  },
  {
   "cell_type": "markdown",
   "metadata": {},
   "source": [
    "## appendix"
   ]
  },
  {
   "cell_type": "code",
   "execution_count": null,
   "metadata": {},
   "outputs": [],
   "source": [
    "a = np.array([[1,2,3,4]])\n",
    "b = a.T\n",
    "a.shape, b.shape\n",
    "b-a"
   ]
  },
  {
   "cell_type": "code",
   "execution_count": null,
   "metadata": {},
   "outputs": [],
   "source": [
    "tns = tf.reshape(tf.convert_to_tensor([[1,2],[3,4]]), (2,2))"
   ]
  },
  {
   "cell_type": "code",
   "execution_count": null,
   "metadata": {},
   "outputs": [],
   "source": [
    "a = tf.diag_part(tns)\n",
    "with tf.Session() as t:\n",
    "    print(a.eval())"
   ]
  },
  {
   "cell_type": "code",
   "execution_count": null,
   "metadata": {},
   "outputs": [],
   "source": [
    "class A:\n",
    "    def __init__(self):\n",
    "        b=B()\n",
    "        print(\"I am A\")\n",
    "\n",
    "class B:\n",
    "    def __init__(self):\n",
    "        print(\"I am B\")\n",
    "b = A()"
   ]
  },
  {
   "cell_type": "code",
   "execution_count": null,
   "metadata": {},
   "outputs": [],
   "source": [
    "tf.exp()"
   ]
  },
  {
   "cell_type": "markdown",
   "metadata": {},
   "source": [
    "## Testing"
   ]
  },
  {
   "cell_type": "code",
   "execution_count": null,
   "metadata": {},
   "outputs": [],
   "source": [
    "from gpfl"
   ]
  }
 ],
 "metadata": {
  "kernelspec": {
   "display_name": "Python 3",
   "language": "python",
   "name": "python3"
  },
  "language_info": {
   "codemirror_mode": {
    "name": "ipython",
    "version": 3
   },
   "file_extension": ".py",
   "mimetype": "text/x-python",
   "name": "python",
   "nbconvert_exporter": "python",
   "pygments_lexer": "ipython3",
   "version": "3.7.9"
  }
 },
 "nbformat": 4,
 "nbformat_minor": 4
}
