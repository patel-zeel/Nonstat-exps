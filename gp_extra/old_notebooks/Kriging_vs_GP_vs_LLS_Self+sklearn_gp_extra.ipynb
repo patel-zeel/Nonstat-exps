{
 "cells": [
  {
   "cell_type": "code",
   "execution_count": 1,
   "metadata": {},
   "outputs": [],
   "source": [
    "import pandas as pd\n",
    "import numpy as np\n",
    "import os\n",
    "import sys\n",
    "!pip -qq install psutil\n",
    "import psutil\n",
    "from time import time, sleep\n",
    "from sklearn.model_selection import KFold, GridSearchCV\n",
    "from sklearn.preprocessing import StandardScaler\n",
    "from sklearn.metrics import mean_squared_error\n",
    "import resource\n",
    "from glob import glob\n",
    "from IPython.display import clear_output\n",
    "from NSGPy.NumPy import LLS"
   ]
  },
  {
   "cell_type": "markdown",
   "metadata": {},
   "source": [
    "## Data preperation"
   ]
  },
  {
   "cell_type": "code",
   "execution_count": 2,
   "metadata": {},
   "outputs": [
    {
     "name": "stdout",
     "output_type": "stream",
     "text": [
      "unique timestamps are 7460\n",
      "unique timestamps after removing missing entry time-stamps are 2132\n"
     ]
    }
   ],
   "source": [
    "main_path = '~/Nonstat-exps/gp_extra/'\n",
    "df = pd.read_csv(main_path+'data/beijing_AQI.csv').rename(columns={'PM25_Concentration':'PM25','longitude':'long','latitude':'lat'})\n",
    "df = df.set_index('time').sort_index()\n",
    "print('unique timestamps are',len(df.index.unique()))\n",
    "useful_ts = []\n",
    "for ts in df.index.unique():\n",
    "  if(len(df.loc[ts])==36):\n",
    "    useful_ts.append(ts)\n",
    "df = df.loc[useful_ts]\n",
    "df['PM25'] = df['PM25'].astype(float)\n",
    "print('unique timestamps after removing missing entry time-stamps are',len(useful_ts))\n",
    "df.columns\n",
    "\n",
    "n_ts = len(useful_ts)\n",
    "K = 3 #  Number of folds\n",
    "n_val = 6 # Number of validation stations\n",
    "\n",
    "splitter = KFold(K, shuffle=True, random_state=0)\n",
    "stations = np.sort(df['station_id'].unique())\n",
    "folds={i:{'train':None,'val':None,'test':None} for i in range(K)}\n",
    "for i, (train_val, test) in enumerate(splitter.split(stations)):\n",
    "    folds[i]['train'] = stations[train_val[:-n_val]]\n",
    "    folds[i]['val'] = stations[train_val[-n_val:]]\n",
    "    folds[i]['test'] = stations[test]\n",
    "    \n",
    "###########################\n",
    "# Data preperation\n",
    "###########################\n",
    "data = {i:{'train_Xy':None,'val_Xy':None,'test_Xy':None} for i in range(K)}\n",
    "for fold in range(K):\n",
    "    for part in ['train','val','test']:\n",
    "        data[fold][part+'_Xy'] = (df[df.station_id.isin(folds[fold][part])][['long', 'lat']], \n",
    "                                  df[df.station_id.isin(folds[fold][part])][['PM25']])"
   ]
  },
  {
   "cell_type": "markdown",
   "metadata": {},
   "source": [
    "## K fold GP-LLS - matern"
   ]
  },
  {
   "cell_type": "code",
   "execution_count": 3,
   "metadata": {},
   "outputs": [],
   "source": [
    "path = 'results/raw_gp_lls_self/'\n",
    "kernel = 'matern'"
   ]
  },
  {
   "cell_type": "markdown",
   "metadata": {},
   "source": [
    "### Training"
   ]
  },
  {
   "cell_type": "code",
   "execution_count": 4,
   "metadata": {
    "scrolled": false
   },
   "outputs": [],
   "source": [
    "# init = time()\n",
    "# # while len(glob(path+'/*')) != len(useful_ts):\n",
    "# jobs = []\n",
    "# for fold in range(K):\n",
    "#     for ts in range(n_ts):\n",
    "#         jobs.append('python scripts/process_gp_lls_self.py {0} {1} {2}'.format(ts, fold, kernel))\n",
    "\n",
    "# print('starting',len(jobs),'jobs on',psutil.cpu_count(),'CPUs')\n",
    "# sleep(5)\n",
    "# os.system(' | '.join(jobs))\n",
    "# n_splits = len(jobs)//64+1\n",
    "# for b_id, batch in enumerate(np.array_split(jobs, n_splits)):\n",
    "#     print('start',b_id+1,'of',n_splits)\n",
    "#     print('length of batch=',len(batch))\n",
    "#     os.system(' | '.join(batch))\n",
    "#     clear_output(wait=True)\n",
    "#     print('end',b_id+1,'of',n_splits)\n",
    "# #     for j_id,job in enumerate(jobs):\n",
    "# #         os.system(job)\n",
    "# #         clear_output(wait=True)\n",
    "# #         print(j_id)\n",
    "# print('round complete')\n",
    "# print((time()-init)/60, 'all fold complete')"
   ]
  },
  {
   "cell_type": "markdown",
   "metadata": {},
   "source": [
    "### RMSE calculation"
   ]
  },
  {
   "cell_type": "code",
   "execution_count": 5,
   "metadata": {},
   "outputs": [
    {
     "name": "stdout",
     "output_type": "stream",
     "text": [
      "Fold 0 rmse 49.3133648956928\n",
      "Fold 1 rmse 35.129954685431905\n",
      "Fold 2 rmse 39.82663629113066\n",
      "Overall RMSE 41.87410459564041\n"
     ]
    },
    {
     "data": {
      "text/plain": [
       "3    411\n",
       "4    404\n",
       "9    279\n",
       "8    277\n",
       "5    266\n",
       "7    245\n",
       "6    228\n",
       "dtype: int64"
      ]
     },
     "execution_count": 5,
     "metadata": {},
     "output_type": "execute_result"
    }
   ],
   "source": [
    "path = 'results/raw_gp_lls_self/'+kernel+'/'\n",
    "preds = []\n",
    "tests = []\n",
    "success = []\n",
    "for fold in folds:\n",
    "    hyp = []\n",
    "    fold_rmse = []\n",
    "    tmp_preds_y = []\n",
    "    tmp_models = []\n",
    "    tmp_tests_y = []\n",
    "    tmp_tests_x = []\n",
    "    tmp_train_Xy = []\n",
    "    for ts_n, ts in enumerate(df.index.unique()[:n_ts]):\n",
    "        try:\n",
    "            tmp = pd.read_pickle(path+'ts_'+str(ts)+'_fold_'+str(fold))\n",
    "            hyp.append(tmp['best_hyperpara']['N'])\n",
    "            preds.append(tmp['pred_y'].squeeze())\n",
    "            tests.append(tmp['test_y'].squeeze())\n",
    "            tmp_models.append(tmp['best_model'])\n",
    "            tmp_train_Xy.append(tmp['train_Xy'])\n",
    "            tmp_tests_x.append(tmp['test_Xy'][0].squeeze())\n",
    "            tmp_preds_y.append(tmp['pred_y'].squeeze())\n",
    "            tmp_tests_y.append(tmp['test_y'].squeeze())\n",
    "            success.append(path+'ts_'+str(ts)+'_fold_'+str(fold))\n",
    "            fold_rmse.append(mean_squared_error(tmp_tests_y[-1], tmp_preds_y[-1], squared=False))\n",
    "        except:\n",
    "            pass\n",
    "    print(\"Fold\",fold,'rmse',mean_squared_error(np.array(tmp_tests_y).flatten(), np.array(tmp_preds_y).flatten(), squared=False))\n",
    "print(\"Overall RMSE\", mean_squared_error(np.array(tests).flatten(), np.array(preds).flatten(), squared=False))\n",
    "pd.Series(hyp).value_counts()"
   ]
  },
  {
   "cell_type": "code",
   "execution_count": 17,
   "metadata": {},
   "outputs": [
    {
     "data": {
      "text/plain": [
       "({'likelihood (mll)': 50.51767385675005,\n",
       "  'GP_variance (sigma_f)': array([138.66462219]),\n",
       "  'GP_noise_level (sigma_n)': array([139.28089971]),\n",
       "  'L_GP_variance (sigma_f_bar)': array([11.99465741, 17.66401384]),\n",
       "  'L_GP_lengthscale (sigma_l_bar)': array([27.25034855, 83.53960916]),\n",
       "  'L_GP_noise_level (sigma_n_bar)': array([4.40482939e+01, 1.00000000e-05]),\n",
       "  'N_lengthscales (l_bar)': array([[  7.81103935,   5.66363731],\n",
       "         [  4.25812628,   1.79656926],\n",
       "         [ 11.65751537,   0.59547428],\n",
       "         [  0.78134816,   3.50460352],\n",
       "         [139.4181094 ,   2.47953721],\n",
       "         [  4.77255972,   6.66210073],\n",
       "         [  4.51255554,  10.99269891],\n",
       "         [ 13.81579061,   6.93025578],\n",
       "         [ 69.15414093,   2.37170552]])},\n",
       " 21.078405135179644,\n",
       " 9)"
      ]
     },
     "execution_count": 17,
     "metadata": {},
     "output_type": "execute_result"
    }
   ],
   "source": [
    "N = 1\n",
    "tmp_models[N].params, fold_rmse[N], hyp[N]"
   ]
  },
  {
   "cell_type": "code",
   "execution_count": 14,
   "metadata": {},
   "outputs": [
    {
     "data": {
      "text/plain": [
       "({'likelihood (mll)': 15.75626370935802,\n",
       "  'GP_variance (sigma_f)': array([146.88051346]),\n",
       "  'GP_noise_level (sigma_n)': array([245.88757104]),\n",
       "  'L_GP_variance (sigma_f_bar)': array([0.02066977, 0.01676469]),\n",
       "  'L_GP_lengthscale (sigma_l_bar)': array([1000.        ,   19.86398661]),\n",
       "  'L_GP_noise_level (sigma_n_bar)': array([0.001, 0.001]),\n",
       "  'N_lengthscales (l_bar)': array([[ 701.24531815,  674.70323598],\n",
       "         [  87.73531007,  429.39876257],\n",
       "         [1000.        ,   41.27624574],\n",
       "         [ 756.09399227,  726.79182812],\n",
       "         [  64.82892485,  682.0001832 ],\n",
       "         [  90.03349818,  257.89930659],\n",
       "         [  22.26044694,  379.00149776]])},\n",
       " 58.5470158787912)"
      ]
     },
     "execution_count": 14,
     "metadata": {},
     "output_type": "execute_result"
    }
   ],
   "source": [
    "N = 0\n",
    "fold = 2\n",
    "ts = df.index.unique()[N]\n",
    "scaler = StandardScaler()\n",
    "model = LLS(2, N_l_bar=7, kernel='matern', seed=0, bounds=(10**-3, 10**3))\n",
    "model.fit(scaler.fit_transform(data[fold]['train_Xy'][0].loc[ts].values), tmp_train_Xy[N][1])\n",
    "model.params,\\\n",
    "mean_squared_error(data[fold]['test_Xy'][1].loc[ts].values, \n",
    "                   model.predict(scaler.transform(data[fold]['test_Xy'][0].loc[ts].values), False), squared=False)"
   ]
  },
  {
   "cell_type": "code",
   "execution_count": 6,
   "metadata": {},
   "outputs": [
    {
     "name": "stdout",
     "output_type": "stream",
     "text": [
      "13.958859583532801 6\r\n"
     ]
    }
   ],
   "source": [
    "!python scripts/process_gp_lls_self.py 0 1 matern"
   ]
  },
  {
   "cell_type": "code",
   "execution_count": 151,
   "metadata": {},
   "outputs": [
    {
     "data": {
      "image/png": "[encoded data removed]",
      "text/plain": [
       "<Figure size 432x288 with 1 Axes>"
      ]
     },
     "metadata": {
      "needs_background": "light"
     },
     "output_type": "display_data"
    }
   ],
   "source": [
    "N = 0\n",
    "dim = 0\n",
    "plt.plot()\n",
    "plt.scatter(tmp_train_Xy[N][0][:,dim], tmp_train_Xy[N][1],label='train')\n",
    "plt.scatter(tmp_tests_x[N][:,dim], tmp_tests_y[N],label='test')\n",
    "plt.scatter(tmp_tests_x[N][:,dim], tmp_preds_y[N],label='pred')\n",
    "plt.legend();"
   ]
  },
  {
   "cell_type": "code",
   "execution_count": null,
   "metadata": {},
   "outputs": [],
   "source": [
    "from NSGPy.NumPy import LLS\n",
    "N = 9\n",
    "dim = 1\n",
    "plt.plot()\n",
    "plt.scatter(tmp_train_Xy[N][0][:,dim], tmp_train_Xy[N][1],label='train')\n",
    "plt.scatter(tmp_tests_x[N][:,dim], tmp_tests_y[N],label='test')\n",
    "plt.scatter(tmp_tests_x[N][:,dim], tmp_preds_y[N],label='pred')\n",
    "plt.legend();"
   ]
  },
  {
   "cell_type": "code",
   "execution_count": 38,
   "metadata": {},
   "outputs": [],
   "source": [
    "pd.to_pickle(success, 'results/sync.pickle')"
   ]
  },
  {
   "cell_type": "markdown",
   "metadata": {},
   "source": [
    "## K fold GP-LLS - rbf"
   ]
  },
  {
   "cell_type": "code",
   "execution_count": 128,
   "metadata": {},
   "outputs": [],
   "source": [
    "path = 'results/raw_gp_lls_self/'\n",
    "kernel = 'rbf'"
   ]
  },
  {
   "cell_type": "markdown",
   "metadata": {},
   "source": [
    "### Training"
   ]
  },
  {
   "cell_type": "code",
   "execution_count": null,
   "metadata": {
    "scrolled": false
   },
   "outputs": [
    {
     "name": "stdout",
     "output_type": "stream",
     "text": [
      "starting 6396 jobs on 32 CPUs\n",
      "start 1 of 100\n",
      "length of batch= 64\n"
     ]
    }
   ],
   "source": [
    "init = time()\n",
    "# while len(glob(path+'/*')) != len(useful_ts):\n",
    "jobs = []\n",
    "for fold in range(K):\n",
    "    for ts in range(n_ts):\n",
    "        jobs.append('python scripts/process_gp_lls_self.py {0} {1} {2}'.format(ts, fold, kernel))\n",
    "\n",
    "print('starting',len(jobs),'jobs on',psutil.cpu_count(),'CPUs')\n",
    "sleep(5)\n",
    "os.system(' | '.join(jobs))\n",
    "n_splits = len(jobs)//64+1\n",
    "for b_id, batch in enumerate(np.array_split(jobs, n_splits)):\n",
    "    print('start',b_id+1,'of',n_splits)\n",
    "    print('length of batch=',len(batch))\n",
    "    os.system(' | '.join(batch))\n",
    "    clear_output(wait=True)\n",
    "    print('end',b_id+1,'of',n_splits)\n",
    "#     for j_id,job in enumerate(jobs):\n",
    "#         os.system(job)\n",
    "#         clear_output(wait=True)\n",
    "#         print(j_id)\n",
    "print('round complete')\n",
    "print((time()-init)/60, 'all fold complete')"
   ]
  },
  {
   "cell_type": "markdown",
   "metadata": {},
   "source": [
    "### RMSE calculation"
   ]
  },
  {
   "cell_type": "code",
   "execution_count": 44,
   "metadata": {},
   "outputs": [
    {
     "name": "stdout",
     "output_type": "stream",
     "text": [
      "Fold 0 rmse 57.2379370162454\n",
      "Fold 1 rmse 40.833994011152804\n",
      "Fold 2 rmse 47.32437235549537\n",
      "Overall RMSE 48.89817816510411\n"
     ]
    },
    {
     "data": {
      "text/plain": [
       "3    1206\n",
       "4    1016\n",
       "6     812\n",
       "5     775\n",
       "8     771\n",
       "9     729\n",
       "7     726\n",
       "dtype: int64"
      ]
     },
     "execution_count": 44,
     "metadata": {},
     "output_type": "execute_result"
    }
   ],
   "source": [
    "preds = []\n",
    "tests = []\n",
    "success = []\n",
    "hyp = []\n",
    "for fold in folds:\n",
    "    fold_rmse = []\n",
    "    tmp_preds_y = []\n",
    "    tmp_models = []\n",
    "    tmp_tests_y = []\n",
    "    tmp_tests_x = []\n",
    "    tmp_train_Xy = []\n",
    "    for ts_n, ts in enumerate(df.index.unique()[:n_ts]):\n",
    "        try:\n",
    "            tmp = pd.read_pickle(path+'ts_'+str(ts)+'_fold_'+str(fold))\n",
    "            hyp.append(tmp['best_hyperpara']['N'])\n",
    "            preds.append(tmp['pred_y'].squeeze())\n",
    "            tests.append(tmp['test_y'].squeeze())\n",
    "            tmp_models.append(tmp['best_model'])\n",
    "            tmp_train_Xy.append(tmp['train_Xy'])\n",
    "            tmp_tests_x.append(tmp['test_Xy'][0].squeeze())\n",
    "            tmp_preds_y.append(tmp['pred_y'].squeeze())\n",
    "            tmp_tests_y.append(tmp['test_y'].squeeze())\n",
    "            success.append(path+'ts_'+str(ts)+'_fold_'+str(fold))\n",
    "            fold_rmse.append(mean_squared_error(tmp_tests_y[-1], tmp_preds_y[-1], squared=False))\n",
    "        except:\n",
    "            pass\n",
    "    print(\"Fold\",fold,'rmse',mean_squared_error(np.array(tmp_tests_y).flatten(), np.array(tmp_preds_y).flatten(), squared=False))\n",
    "print(\"Overall RMSE\", mean_squared_error(np.array(tests).flatten(), np.array(preds).flatten(), squared=False))\n",
    "pd.Series(hyp).value_counts()"
   ]
  },
  {
   "cell_type": "code",
   "execution_count": 45,
   "metadata": {},
   "outputs": [
    {
     "data": {
      "text/plain": [
       "[15.652216040646225,\n",
       " 30.936255326235997,\n",
       " 17.1450568166559,\n",
       " 21.641936943583264,\n",
       " 21.937975495666148,\n",
       " 23.783997178068958,\n",
       " 53.35454019691483,\n",
       " 19.527267920026823,\n",
       " 25.165968822210676,\n",
       " 47.11031197570313]"
      ]
     },
     "execution_count": 45,
     "metadata": {},
     "output_type": "execute_result"
    }
   ],
   "source": [
    "fold_rmse[:10]"
   ]
  },
  {
   "cell_type": "code",
   "execution_count": 46,
   "metadata": {},
   "outputs": [],
   "source": [
    "import matplotlib.pyplot as plt"
   ]
  },
  {
   "cell_type": "code",
   "execution_count": 48,
   "metadata": {},
   "outputs": [
    {
     "data": {
      "image/png": "[encoded data removed]",
      "text/plain": [
       "<Figure size 432x288 with 1 Axes>"
      ]
     },
     "metadata": {
      "needs_background": "light"
     },
     "output_type": "display_data"
    }
   ],
   "source": [
    "N = 9\n",
    "dim = 1\n",
    "plt.plot()\n",
    "plt.scatter(tmp_train_Xy[N][0][:,dim], tmp_train_Xy[N][1],label='train')\n",
    "plt.scatter(tmp_tests_x[N][:,dim], tmp_tests_y[N],label='test')\n",
    "plt.scatter(tmp_tests_x[N][:,dim], tmp_preds_y[N],label='pred')\n",
    "plt.legend();"
   ]
  },
  {
   "cell_type": "code",
   "execution_count": null,
   "metadata": {},
   "outputs": [],
   "source": [
    "from NSGPy.NumPy import LLS\n",
    "N = 9\n",
    "dim = 1\n",
    "plt.plot()\n",
    "plt.scatter(tmp_train_Xy[N][0][:,dim], tmp_train_Xy[N][1],label='train')\n",
    "plt.scatter(tmp_tests_x[N][:,dim], tmp_tests_y[N],label='test')\n",
    "plt.scatter(tmp_tests_x[N][:,dim], tmp_preds_y[N],label='pred')\n",
    "plt.legend();"
   ]
  },
  {
   "cell_type": "code",
   "execution_count": 38,
   "metadata": {},
   "outputs": [],
   "source": [
    "pd.to_pickle(success, 'results/sync.pickle')"
   ]
  },
  {
   "cell_type": "code",
   "execution_count": null,
   "metadata": {},
   "outputs": [],
   "source": []
  },
  {
   "cell_type": "markdown",
   "metadata": {},
   "source": [
    "## K fold GP-LLS-matern-gp-extra"
   ]
  },
  {
   "cell_type": "code",
   "execution_count": 29,
   "metadata": {},
   "outputs": [],
   "source": [
    "path = 'results/raw_gp_lls_matern_gp_extras/'\n",
    "kern_name = 'matern'"
   ]
  },
  {
   "cell_type": "code",
   "execution_count": 8,
   "metadata": {},
   "outputs": [],
   "source": [
    "from scipy.optimize import differential_evolution\n",
    "from sklearn.gaussian_process import GaussianProcessRegressor\n",
    "from sklearn.gaussian_process.kernels \\\n",
    "    import ConstantKernel as C, Matern\n",
    "from sklearn.metrics import mean_squared_error\n",
    "from gp_extras.kernels import LocalLengthScalesKernel\n",
    "\n",
    "def de_optimizer(obj_func, initial_theta, bounds):\n",
    "    res = differential_evolution(lambda x: obj_func(x, eval_gradient=False),\n",
    "                                 bounds, maxiter=20, disp=False, polish=False)\n",
    "    return res.x, obj_func(res.x, eval_gradient=False)"
   ]
  },
  {
   "cell_type": "markdown",
   "metadata": {},
   "source": [
    "### Training"
   ]
  },
  {
   "cell_type": "code",
   "execution_count": 9,
   "metadata": {
    "scrolled": true
   },
   "outputs": [
    {
     "name": "stdout",
     "output_type": "stream",
     "text": [
      "starting 96 jobs on 32 CPUs\n",
      "round complete\n",
      "3.5594407081604005 all fold complete\n"
     ]
    }
   ],
   "source": [
    "jobs = []\n",
    "for fold in range(K):\n",
    "    for ts in range(n_ts):\n",
    "        jobs.append('python scripts/process_gp_lls_gp_extras.py {0} {1} {2}'.format(ts, fold, kern_name))\n",
    "\n",
    "print('starting',len(jobs),'jobs on',psutil.cpu_count(),'CPUs')\n",
    "init = time()\n",
    "maxa = 0\n",
    "while len(glob(path+'/*')) != len(jobs):\n",
    "    if maxa>10:\n",
    "        break\n",
    "    os.system(' | '.join(jobs))\n",
    "#     for b_id, batch in enumerate(np.array_split(jobs, 4)):\n",
    "#         os.system(' | '.join(batch))\n",
    "#         clear_output(wait=True)\n",
    "#         print(b_id)\n",
    "#     for j_id,job in enumerate(jobs):\n",
    "#         os.system(job)\n",
    "#         clear_output(wait=True)\n",
    "#         print(j_id)\n",
    "    print('round complete')\n",
    "    maxa+=1\n",
    "print((time()-init)/60, 'all fold complete')"
   ]
  },
  {
   "cell_type": "markdown",
   "metadata": {},
   "source": [
    "### RMSE calculation"
   ]
  },
  {
   "cell_type": "code",
   "execution_count": 10,
   "metadata": {},
   "outputs": [
    {
     "name": "stdout",
     "output_type": "stream",
     "text": [
      "Fold 0 rmse 33.51401046314828\n",
      "Fold 1 rmse 26.88769202915281\n",
      "Fold 2 rmse 29.489337206990676\n",
      "Fold 3 rmse 41.70269088245913\n",
      "Overall RMSE 33.37241494005238\n"
     ]
    },
    {
     "data": {
      "text/plain": [
       "4    25\n",
       "3    24\n",
       "5    18\n",
       "1    16\n",
       "2    13\n",
       "dtype: int64"
      ]
     },
     "execution_count": 10,
     "metadata": {},
     "output_type": "execute_result"
    }
   ],
   "source": [
    "preds = []\n",
    "tests = []\n",
    "hyp = []\n",
    "for fold in folds:\n",
    "    tmp_preds = []\n",
    "    tmp_tests = []\n",
    "    for ts_n, ts in enumerate(df.index.unique()[:n_ts]):\n",
    "        tmp = pd.read_pickle(path+'ts_'+str(ts)+'_fold_'+str(fold))\n",
    "        hyp.append(tmp['best_hyperpara']['N'])\n",
    "        preds.append(tmp['pred_y'].squeeze())\n",
    "        tests.append(tmp['test_y'].squeeze())\n",
    "        tmp_preds.append(tmp['pred_y'].squeeze())\n",
    "        tmp_tests.append(tmp['test_y'].squeeze())\n",
    "    print(\"Fold\",fold,'rmse',mean_squared_error(np.array(tmp_tests).flatten(), np.array(tmp_preds).flatten(), squared=False))\n",
    "print(\"Overall RMSE\", mean_squared_error(np.array(tests).flatten(), np.array(preds).flatten(), squared=False))\n",
    "pd.Series(hyp).value_counts()"
   ]
  },
  {
   "cell_type": "markdown",
   "metadata": {},
   "source": [
    "## K fold GP-LLS-rbf-gp-extra"
   ]
  },
  {
   "cell_type": "code",
   "execution_count": 11,
   "metadata": {},
   "outputs": [],
   "source": [
    "path = 'results/raw_gp_lls_rbf_gp_extras/'\n",
    "kern_name = 'rbf'"
   ]
  },
  {
   "cell_type": "code",
   "execution_count": 12,
   "metadata": {},
   "outputs": [],
   "source": [
    "from scipy.optimize import differential_evolution\n",
    "from sklearn.gaussian_process import GaussianProcessRegressor\n",
    "from sklearn.gaussian_process.kernels \\\n",
    "    import ConstantKernel as C, Matern\n",
    "from sklearn.metrics import mean_squared_error\n",
    "from gp_extras.kernels import LocalLengthScalesKernel\n",
    "\n",
    "def de_optimizer(obj_func, initial_theta, bounds):\n",
    "    res = differential_evolution(lambda x: obj_func(x, eval_gradient=False),\n",
    "                                 bounds, maxiter=20, disp=False, polish=False)\n",
    "    return res.x, obj_func(res.x, eval_gradient=False)"
   ]
  },
  {
   "cell_type": "markdown",
   "metadata": {},
   "source": [
    "### Training"
   ]
  },
  {
   "cell_type": "code",
   "execution_count": 13,
   "metadata": {
    "scrolled": true
   },
   "outputs": [
    {
     "name": "stdout",
     "output_type": "stream",
     "text": [
      "starting 96 jobs on 32 CPUs\n",
      "round complete\n",
      "5.006258841355642 all fold complete\n"
     ]
    }
   ],
   "source": [
    "jobs = []\n",
    "for fold in range(K):\n",
    "    for ts in range(n_ts):\n",
    "        jobs.append('python scripts/process_gp_lls_gp_extras.py {0} {1} {2}'.format(ts, fold, kern_name))\n",
    "\n",
    "print('starting',len(jobs),'jobs on',psutil.cpu_count(),'CPUs')\n",
    "init = time()\n",
    "maxa = 0\n",
    "while len(glob(path+'/*')) != len(jobs):\n",
    "    if maxa>10:\n",
    "        break\n",
    "    os.system(' | '.join(jobs))\n",
    "#     for b_id, batch in enumerate(np.array_split(jobs, 4)):\n",
    "#         os.system(' | '.join(batch))\n",
    "#         clear_output(wait=True)\n",
    "#         print(b_id)\n",
    "#     for j_id,job in enumerate(jobs):\n",
    "#         os.system(job)\n",
    "#         clear_output(wait=True)\n",
    "#         print(j_id)\n",
    "    print('round complete')\n",
    "    maxa+=1\n",
    "print((time()-init)/60, 'all fold complete')"
   ]
  },
  {
   "cell_type": "markdown",
   "metadata": {},
   "source": [
    "### RMSE calculation"
   ]
  },
  {
   "cell_type": "code",
   "execution_count": 14,
   "metadata": {},
   "outputs": [
    {
     "name": "stdout",
     "output_type": "stream",
     "text": [
      "Fold 0 rmse 50.90439913476052\n",
      "Fold 1 rmse 39.52342210554558\n",
      "Fold 2 rmse 50.13993464893882\n",
      "Fold 3 rmse 53.810876381022204\n",
      "Overall RMSE 48.89525081666328\n"
     ]
    },
    {
     "data": {
      "text/plain": [
       "3    33\n",
       "2    19\n",
       "5    16\n",
       "4    14\n",
       "1    14\n",
       "dtype: int64"
      ]
     },
     "execution_count": 14,
     "metadata": {},
     "output_type": "execute_result"
    }
   ],
   "source": [
    "preds = []\n",
    "tests = []\n",
    "hyp = []\n",
    "for fold in folds:\n",
    "    tmp_preds = []\n",
    "    tmp_tests = []\n",
    "    for ts_n, ts in enumerate(df.index.unique()[:n_ts]):\n",
    "        tmp = pd.read_pickle(path+'ts_'+str(ts)+'_fold_'+str(fold))\n",
    "        hyp.append(tmp['best_hyperpara']['N'])\n",
    "        preds.append(tmp['pred_y'].squeeze())\n",
    "        tests.append(tmp['test_y'].squeeze())\n",
    "        tmp_preds.append(tmp['pred_y'].squeeze())\n",
    "        tmp_tests.append(tmp['test_y'].squeeze())\n",
    "    print(\"Fold\",fold,'rmse',mean_squared_error(np.array(tmp_tests).flatten(), np.array(tmp_preds).flatten(), squared=False))\n",
    "print(\"Overall RMSE\", mean_squared_error(np.array(tests).flatten(), np.array(preds).flatten(), squared=False))\n",
    "pd.Series(hyp).value_counts()"
   ]
  },
  {
   "cell_type": "markdown",
   "metadata": {},
   "source": [
    "## Appendix"
   ]
  },
  {
   "cell_type": "code",
   "execution_count": 15,
   "metadata": {},
   "outputs": [
    {
     "data": {
      "text/plain": [
       "((3, 2),\n",
       " array([[1, 3],\n",
       "        [2, 4],\n",
       "        [3, 5]]),\n",
       " array([[4, 7],\n",
       "        [5, 8],\n",
       "        [6, 9]]),\n",
       " (3, 2))"
      ]
     },
     "execution_count": 15,
     "metadata": {},
     "output_type": "execute_result"
    }
   ],
   "source": [
    "a=np.array([[1,2,3],[3,4,5]]).T\n",
    "b=np.array([[4,5,6],[7,8,9]]).T\n",
    "a.shape, a, b, b.shape"
   ]
  },
  {
   "cell_type": "code",
   "execution_count": 16,
   "metadata": {},
   "outputs": [
    {
     "data": {
      "text/plain": [
       "GaussianProcessRegressor()"
      ]
     },
     "execution_count": 16,
     "metadata": {},
     "output_type": "execute_result"
    }
   ],
   "source": [
    "GaussianProcessRegressor()"
   ]
  },
  {
   "cell_type": "code",
   "execution_count": 17,
   "metadata": {},
   "outputs": [
    {
     "data": {
      "text/plain": [
       "(array([[1, 2]]),\n",
       " array([[ 9, 16],\n",
       "        [16, 25],\n",
       "        [25, 36],\n",
       "        [ 4,  9],\n",
       "        [ 9, 16],\n",
       "        [16, 25],\n",
       "        [ 1,  4],\n",
       "        [ 4,  9],\n",
       "        [ 9, 16]]),\n",
       " array([41, 66, 97, 22, 41, 66,  9, 22, 41]))"
      ]
     },
     "execution_count": 17,
     "metadata": {},
     "output_type": "execute_result"
    }
   ],
   "source": [
    "tgp = np.array([1,2]).reshape(1,2)\n",
    "sm = (a[:,np.newaxis,:]-b[np.newaxis,:,:]).reshape(-1,2)**2\n",
    "act = np.sum(tgp*sm, axis=1)\n",
    "tgp, sm, np.sum(tgp*sm, axis=1)"
   ]
  },
  {
   "cell_type": "code",
   "execution_count": null,
   "metadata": {},
   "outputs": [],
   "source": []
  }
 ],
 "metadata": {
  "colab": {
   "authorship_tag": "ABX9TyP6k4WgBqgL+Y9j9KIJPQp/",
   "collapsed_sections": [],
   "include_colab_link": true,
   "name": "GP_Extra_LLS_self_implement.ipynb",
   "provenance": []
  },
  "kernelspec": {
   "display_name": "Python 3",
   "language": "python",
   "name": "python3"
  },
  "language_info": {
   "codemirror_mode": {
    "name": "ipython",
    "version": 3
   },
   "file_extension": ".py",
   "mimetype": "text/x-python",
   "name": "python",
   "nbconvert_exporter": "python",
   "pygments_lexer": "ipython3",
   "version": "3.7.9"
  }
 },
 "nbformat": 4,
 "nbformat_minor": 1
}
