{
 "cells": [
  {
   "cell_type": "code",
   "execution_count": 1,
   "metadata": {},
   "outputs": [],
   "source": [
    "import pandas as pd"
   ]
  },
  {
   "cell_type": "code",
   "execution_count": 3,
   "metadata": {},
   "outputs": [
    {
     "data": {
      "text/plain": [
       "122248    2014-05-01 00:00:00\n",
       "143409    2014-05-01 00:00:00\n",
       "182925    2014-05-01 00:00:00\n",
       "160540    2014-05-01 00:00:00\n",
       "180509    2014-05-01 00:00:00\n",
       "                 ...         \n",
       "27095     2015-04-30 22:00:00\n",
       "46328     2015-04-30 22:00:00\n",
       "22769     2015-04-30 22:00:00\n",
       "72676     2015-04-30 22:00:00\n",
       "232057    2015-04-30 22:00:00\n",
       "Name: time, Length: 234008, dtype: object"
      ]
     },
     "execution_count": 3,
     "metadata": {},
     "output_type": "execute_result"
    }
   ],
   "source": [
    "pd.read_csv('beijing_AQI.csv').sort_values('time').time"
   ]
  },
  {
   "cell_type": "code",
   "execution_count": null,
   "metadata": {},
   "outputs": [],
   "source": []
  }
 ],
 "metadata": {
  "kernelspec": {
   "display_name": "Python 3",
   "language": "python",
   "name": "python3"
  },
  "language_info": {
   "codemirror_mode": {
    "name": "ipython",
    "version": 3
   },
   "file_extension": ".py",
   "mimetype": "text/x-python",
   "name": "python",
   "nbconvert_exporter": "python",
   "pygments_lexer": "ipython3",
   "version": "3.7.9"
  }
 },
 "nbformat": 4,
 "nbformat_minor": 4
}
