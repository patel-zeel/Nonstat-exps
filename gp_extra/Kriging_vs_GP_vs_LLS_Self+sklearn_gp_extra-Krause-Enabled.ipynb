{
 "cells": [
  {
   "cell_type": "code",
   "execution_count": 95,
   "metadata": {},
   "outputs": [],
   "source": [
    "import pandas as pd\n",
    "import numpy as np\n",
    "import os\n",
    "import sys\n",
    "!pip -qq install psutil\n",
    "import psutil\n",
    "from time import time, sleep\n",
    "from sklearn.model_selection import KFold, GridSearchCV\n",
    "from sklearn.preprocessing import StandardScaler\n",
    "from sklearn.metrics import mean_squared_error\n",
    "import resource\n",
    "from glob import glob\n",
    "from IPython.display import clear_output\n",
    "from sklearn.covariance import EmpiricalCovariance as EC\n",
    "from NSGPy.NumPy import LLS\n",
    "import matplotlib.pyplot as plt\n",
    "import warnings\n",
    "warnings.filterwarnings('ignore')\n",
    "\n",
    "from GPy.models import GPRegression as GPR\n",
    "from GPy.kern import Matern32"
   ]
  },
  {
   "cell_type": "code",
   "execution_count": 96,
   "metadata": {},
   "outputs": [
    {
     "data": {
      "text/plain": [
       "EmpiricalCovariance()"
      ]
     },
     "execution_count": 96,
     "metadata": {},
     "output_type": "execute_result"
    }
   ],
   "source": [
    "a = np.random.rand(10,50)\n",
    "m = EC()\n",
    "m.fit(a)"
   ]
  },
  {
   "cell_type": "code",
   "execution_count": 97,
   "metadata": {},
   "outputs": [
    {
     "name": "stdout",
     "output_type": "stream",
     "text": [
      "[[-1.23396867  1.01225245  4.73033096  0.62876698 -7.61979096]\n",
      " [-1.82787631  1.7272771  -1.8550197   2.21473093 -0.10703669]\n",
      " [-1.40494466  0.43640003 -6.74468206  0.57464248 12.65083928]\n",
      " [ 2.42470312 -2.52416289  5.65529165 -0.82485827 -6.52748194]\n",
      " [ 2.61629615 -0.22137161  1.62508706 -1.64136668 -4.08777221]]\n",
      "[[-2.51091129  5.88237082 -4.58323636]\n",
      " [ 0.30721679  4.46157854 -5.74433351]\n",
      " [ 2.2948811  -5.69319155  5.9605111 ]]\n"
     ]
    },
    {
     "data": {
      "text/plain": [
       "[8, 9, 10]"
      ]
     },
     "execution_count": 97,
     "metadata": {},
     "output_type": "execute_result"
    }
   ],
   "source": [
    "a = np.random.rand(5,5)\n",
    "print(np.linalg.inv(a))\n",
    "print(np.linalg.inv(a[:3,:3]))\n",
    "a = [8,9,10,11]\n",
    "a.remove(11)\n",
    "a"
   ]
  },
  {
   "cell_type": "markdown",
   "metadata": {},
   "source": [
    "## Data preperation"
   ]
  },
  {
   "cell_type": "code",
   "execution_count": 98,
   "metadata": {},
   "outputs": [
    {
     "name": "stdout",
     "output_type": "stream",
     "text": [
      "unique timestamps are 7460\n",
      "unique timestamps after removing missing entry time-stamps are 2132\n"
     ]
    }
   ],
   "source": [
    "main_path = '~/Nonstat-exps/gp_extra/'\n",
    "df = pd.read_csv(main_path+'data/beijing_AQI.csv').rename(columns={'PM25_Concentration':'PM25','longitude':'long','latitude':'lat'})\n",
    "df = df.set_index('time').sort_values(['time', 'station_id'])\n",
    "print('unique timestamps are',len(df.index.unique()))\n",
    "useful_ts = []\n",
    "for ts in df.index.unique():\n",
    "  if(len(df.loc[ts])==36):\n",
    "    useful_ts.append(ts)\n",
    "df = df.loc[useful_ts]\n",
    "df['PM25'] = df['PM25'].astype(float)\n",
    "print('unique timestamps after removing missing entry time-stamps are',len(useful_ts))\n",
    "df.columns\n",
    "\n",
    "n_ts = len(useful_ts)\n",
    "K = 3 #  Number of folds\n",
    "n_val = 6 # Number of validation stations\n",
    "\n",
    "splitter = KFold(K, shuffle=True, random_state=0)\n",
    "stations = np.sort(df['station_id'].unique())\n",
    "folds={i:{'train':None,'val':None,'test':None} for i in range(K)}\n",
    "for i, (train_val, test) in enumerate(splitter.split(stations)):\n",
    "    folds[i]['train'] = stations[train_val[:-n_val]]\n",
    "    folds[i]['val'] = stations[train_val[-n_val:]]\n",
    "    folds[i]['test'] = stations[test]\n",
    "    \n",
    "###########################\n",
    "# Data preperation\n",
    "###########################\n",
    "data = {i:{'train_Xy':None,'val_Xy':None,'test_Xy':None} for i in range(K)}\n",
    "for fold in range(K):\n",
    "    for part in ['train','val','test']:\n",
    "        data[fold][part+'_Xy'] = (df[df.station_id.isin(folds[fold][part])][['long', 'lat']], \n",
    "                                  df[df.station_id.isin(folds[fold][part])][['PM25']])"
   ]
  },
  {
   "cell_type": "code",
   "execution_count": 99,
   "metadata": {},
   "outputs": [
    {
     "data": {
      "text/plain": [
       "(38376, 1)"
      ]
     },
     "execution_count": 99,
     "metadata": {},
     "output_type": "execute_result"
    }
   ],
   "source": [
    "data[0]['train_Xy'][1].values.shape"
   ]
  },
  {
   "cell_type": "code",
   "execution_count": 100,
   "metadata": {},
   "outputs": [
    {
     "data": {
      "text/plain": [
       "(array([[0.95214463],\n",
       "        [0.71051118],\n",
       "        [0.89213473],\n",
       "        [0.47175788],\n",
       "        [0.62364751],\n",
       "        [0.36969825]]),\n",
       " array([0.95214463, 0.71051118, 0.89213473]))"
      ]
     },
     "execution_count": 100,
     "metadata": {},
     "output_type": "execute_result"
    }
   ],
   "source": [
    "a = np.random.rand(6,1)\n",
    "b = a.reshape(3,2,order='F')\n",
    "a, b[:,0]"
   ]
  },
  {
   "cell_type": "markdown",
   "metadata": {},
   "source": [
    "## Predicting average of train"
   ]
  },
  {
   "cell_type": "code",
   "execution_count": 101,
   "metadata": {},
   "outputs": [
    {
     "name": "stdout",
     "output_type": "stream",
     "text": [
      "mean fold rmse (mean) 24.70773388766678\n",
      "mean fold rmse (ind) 27.593989213970872\n",
      "mean fold rmse (mean) 21.62179791334053\n",
      "mean fold rmse (ind) 24.67904573426431\n",
      "mean fold rmse (mean) 25.504236190521677\n",
      "mean fold rmse (ind) 27.428371924336904\n",
      "mean overall rmse (mean) 23.94458933050966\n",
      "mean overall rmse (ind) 26.60074638999442\n"
     ]
    }
   ],
   "source": [
    "n_ts = 24\n",
    "preds = []\n",
    "tests = []\n",
    "n_fold_rmse = []\n",
    "for fold in range(K):\n",
    "    f_preds = []\n",
    "    f_tests = []\n",
    "    fold_rmse = []\n",
    "    for ts_n in range(n_ts):\n",
    "        ts = df.index.unique()[ts_n]\n",
    "        f_tests.append(data[fold]['test_Xy'][1].loc[ts].values)\n",
    "        f_preds.append(np.array([np.mean(data[fold]['train_Xy'][1].loc[ts].values)]*\\\n",
    "                                data[fold]['test_Xy'][1].loc[ts].values.shape[0]).reshape(-1,1))\n",
    "        preds.append(f_preds[-1])\n",
    "        tests.append(data[fold]['test_Xy'][1].loc[ts].values)\n",
    "        fold_rmse.append(mean_squared_error(f_tests[-1], f_preds[-1], squared=False))\n",
    "        n_fold_rmse.append(mean_squared_error(f_tests[-1], f_preds[-1], squared=False))\n",
    "    print('mean fold rmse (mean)', np.mean(fold_rmse))\n",
    "    print('mean fold rmse (ind)', mean_squared_error(np.concatenate(f_tests), np.concatenate(f_preds), squared=False))\n",
    "print('mean overall rmse (mean)', np.mean(n_fold_rmse))\n",
    "print('mean overall rmse (ind)', mean_squared_error(np.concatenate(tests), np.concatenate(preds), squared=False))"
   ]
  },
  {
   "cell_type": "markdown",
   "metadata": {},
   "source": [
    "## df to save all results"
   ]
  },
  {
   "cell_type": "code",
   "execution_count": 102,
   "metadata": {},
   "outputs": [],
   "source": [
    "n_time_i = np.array(df.index.unique().tolist()*3).reshape(1,-1)\n",
    "n_time_id = np.array(list(range(len(df.index.unique())))*3).reshape(1,-1)\n",
    "n_fold_i = np.concatenate([np.ones(n_time_i.shape[1]//3)*0, \n",
    "                           np.ones(n_time_i.shape[1]//3)*1, \n",
    "                           np.ones(n_time_i.shape[1]//3)*2]).reshape(1,-1).astype(int)\n",
    "mult_i = np.concatenate([n_time_id, n_time_i, n_fold_i], axis=0)\n",
    "master_df = pd.DataFrame(index=pd.MultiIndex.from_arrays(mult_i))"
   ]
  },
  {
   "cell_type": "markdown",
   "metadata": {},
   "source": [
    "## K fold GP-LLS - matern"
   ]
  },
  {
   "cell_type": "code",
   "execution_count": 103,
   "metadata": {},
   "outputs": [],
   "source": [
    "path = 'results/raw_gp_lls_self_greedy/'\n",
    "kernel = 'matern'\n",
    "n_ts = 24"
   ]
  },
  {
   "cell_type": "code",
   "execution_count": 105,
   "metadata": {},
   "outputs": [],
   "source": [
    "# Check if works\n",
    "# !python scripts/process_gp_lls_self_greedy.py 0 1 matern 24"
   ]
  },
  {
   "cell_type": "markdown",
   "metadata": {},
   "source": [
    "### Training"
   ]
  },
  {
   "cell_type": "code",
   "execution_count": 108,
   "metadata": {
    "scrolled": false
   },
   "outputs": [
    {
     "name": "stdout",
     "output_type": "stream",
     "text": [
      "end 2 of 2\n",
      "6.22829331556956 all fold complete\n"
     ]
    }
   ],
   "source": [
    "init = time()\n",
    "jobs = []\n",
    "for fold in range(K):\n",
    "    for ts in range(n_ts):\n",
    "        jobs.append('python scripts/process_gp_lls_self_greedy.py {0} {1} {2} {3}'.format(ts, fold, kernel, n_ts))\n",
    "\n",
    "print('starting',len(jobs),'jobs on',psutil.cpu_count(),'CPUs')\n",
    "sleep(1)\n",
    "n_splits = len(jobs)//32\n",
    "for b_id, batch in enumerate(np.array_split(jobs, n_splits)):\n",
    "    print('start',b_id+1,'of',n_splits)\n",
    "    print('length of batch=',len(batch))\n",
    "    os.system(' | '.join(batch))\n",
    "    clear_output(wait=True)\n",
    "    print('end',b_id+1,'of',n_splits)\n",
    "print((time()-init)/60, 'all fold complete')"
   ]
  },
  {
   "cell_type": "markdown",
   "metadata": {},
   "source": [
    "### RMSE calculation"
   ]
  },
  {
   "cell_type": "code",
   "execution_count": 109,
   "metadata": {},
   "outputs": [
    {
     "name": "stdout",
     "output_type": "stream",
     "text": [
      "Fold 0 mean_rmse 26.120793661254055\n",
      "Fold 0 individual_rmse 29.337392375331813\n",
      "Fold 1 mean_rmse 19.411562439376997\n",
      "Fold 1 individual_rmse 21.888845198881267\n",
      "Fold 2 mean_rmse 24.173595246802066\n",
      "Fold 2 individual_rmse 26.649335065566312\n",
      "Overall RMSE (individual) 26.14058909666209\n",
      "Overall RMSE (mean of folds) 23.23531711581104\n"
     ]
    },
    {
     "data": {
      "text/plain": [
       "(4    7\n",
       " 9    5\n",
       " 6    3\n",
       " 5    3\n",
       " 3    3\n",
       " 7    2\n",
       " 8    1\n",
       " dtype: int64,\n",
       " 72,\n",
       " 72)"
      ]
     },
     "execution_count": 109,
     "metadata": {},
     "output_type": "execute_result"
    }
   ],
   "source": [
    "path = 'results/raw_gp_lls_self_greedy/'+kernel+'/'\n",
    "name = 'lls_matern'\n",
    "master_df[name] = None\n",
    "preds = []\n",
    "tests = []\n",
    "mean_rmse_per_fold = []\n",
    "success = []\n",
    "n_fold_rmse = []\n",
    "for fold in folds:\n",
    "    hyp = []\n",
    "    fold_rmse = []\n",
    "    tmp_preds_y = []\n",
    "    tmp_models = []\n",
    "    tmp_tests_y = []\n",
    "    tmp_tests_x = []\n",
    "    tmp_train_Xy = []\n",
    "    for ts_n, ts in enumerate(df.index.unique()[:n_ts]):\n",
    "        try:\n",
    "            tmp = pd.read_pickle(path+'ts_'+str(ts)+'_fold_'+str(fold))\n",
    "            hyp.append(tmp['best_hyperpara']['N'])\n",
    "            preds.append(tmp['pred_y'].squeeze())\n",
    "            tests.append(tmp['test_y'].squeeze())\n",
    "            tmp_models.append(tmp['best_model'])\n",
    "            tmp_train_Xy.append(tmp['train_Xy'])\n",
    "            tmp_tests_x.append(tmp['test_Xy'][0].squeeze())\n",
    "            tmp_preds_y.append(tmp['pred_y'].squeeze())\n",
    "            tmp_tests_y.append(tmp['test_y'].squeeze())\n",
    "            success.append(path+'ts_'+str(ts)+'_fold_'+str(fold))\n",
    "            fold_rmse.append(mean_squared_error(tmp_tests_y[-1], tmp_preds_y[-1], squared=False))\n",
    "            master_df.loc[(str(ts_n), str(ts), str(fold)),name] = mean_squared_error(tmp_tests_y[-1], tmp_preds_y[-1], squared=False)\n",
    "            master_df.loc[(str(ts_n), str(ts), str(fold)),name+'_model'] = tmp['best_model']\n",
    "        except:\n",
    "            pass\n",
    "    print('Fold',fold,'mean_rmse',np.mean(fold_rmse))\n",
    "    mean_rmse_per_fold.append(np.mean(fold_rmse))\n",
    "    print(\"Fold\",fold,'individual_rmse',mean_squared_error(np.array(tmp_tests_y).flatten(), np.array(tmp_preds_y).flatten(), squared=False))\n",
    "print(\"Overall RMSE (individual)\", mean_squared_error(np.array(tests).flatten(), np.array(preds).flatten(), squared=False))\n",
    "print(\"Overall RMSE (mean of folds)\", np.mean(mean_rmse_per_fold))\n",
    "pd.Series(hyp).value_counts(), len(tests), 24*3"
   ]
  },
  {
   "cell_type": "markdown",
   "metadata": {},
   "source": [
    "## Manual check (Misc.)"
   ]
  },
  {
   "cell_type": "code",
   "execution_count": 110,
   "metadata": {},
   "outputs": [
    {
     "data": {
      "image/png": "[encoded data removed]",
      "text/plain": [
       "<Figure size 432x288 with 1 Axes>"
      ]
     },
     "metadata": {
      "needs_background": "light"
     },
     "output_type": "display_data"
    }
   ],
   "source": [
    "import matplotlib.pyplot as plt\n",
    "N = 0\n",
    "dim = 0\n",
    "plt.plot()\n",
    "plt.scatter(tmp_train_Xy[N][0][:,dim], tmp_train_Xy[N][1],label='train')\n",
    "plt.scatter(tmp_tests_x[N][:,dim], tmp_tests_y[N],label='test')\n",
    "plt.scatter(tmp_tests_x[N][:,dim], tmp_preds_y[N],label='pred')\n",
    "plt.legend();"
   ]
  },
  {
   "cell_type": "code",
   "execution_count": 111,
   "metadata": {},
   "outputs": [],
   "source": [
    "# pd.to_pickle(success, 'results/sync.pickle')"
   ]
  },
  {
   "cell_type": "markdown",
   "metadata": {},
   "source": [
    "## K fold GP-LLS - rbf"
   ]
  },
  {
   "cell_type": "code",
   "execution_count": 112,
   "metadata": {},
   "outputs": [],
   "source": [
    "path = 'results/raw_gp_lls_self_greedy/'\n",
    "kernel = 'rbf'\n",
    "n_ts = 24"
   ]
  },
  {
   "cell_type": "markdown",
   "metadata": {},
   "source": [
    "### Training"
   ]
  },
  {
   "cell_type": "code",
   "execution_count": 113,
   "metadata": {
    "scrolled": false
   },
   "outputs": [
    {
     "name": "stdout",
     "output_type": "stream",
     "text": [
      "end 2 of 2\n",
      "4.880542318026225 minutes. all fold complete\n"
     ]
    }
   ],
   "source": [
    "init = time()\n",
    "jobs = []\n",
    "for fold in range(K):\n",
    "    for ts in range(n_ts):\n",
    "        jobs.append('python scripts/process_gp_lls_self_greedy.py {0} {1} {2} {3}'.format(ts, fold, kernel, n_ts))\n",
    "\n",
    "print('starting',len(jobs),'jobs on',psutil.cpu_count(),'CPUs')\n",
    "sleep(1)\n",
    "n_splits = len(jobs)//64+1\n",
    "for b_id, batch in enumerate(np.array_split(jobs, n_splits)):\n",
    "    print('start',b_id+1,'of',n_splits)\n",
    "    print('length of batch=',len(batch))\n",
    "    os.system(' | '.join(batch))\n",
    "    clear_output(wait=True)\n",
    "    print('end',b_id+1,'of',n_splits)\n",
    "print((time()-init)/60, 'minutes. all fold complete')"
   ]
  },
  {
   "cell_type": "markdown",
   "metadata": {},
   "source": [
    "### RMSE calculation"
   ]
  },
  {
   "cell_type": "code",
   "execution_count": 114,
   "metadata": {},
   "outputs": [
    {
     "name": "stdout",
     "output_type": "stream",
     "text": [
      "Fold 0 mean_rmse 27.570912064172024\n",
      "Fold 0 individual_rmse 31.583389524936038\n",
      "Fold 1 mean_rmse 21.267964375031763\n",
      "Fold 1 individual_rmse 24.585563184333825\n",
      "Fold 2 mean_rmse 24.086979994763567\n",
      "Fold 2 individual_rmse 26.892491193995152\n",
      "Overall RMSE (individual) 27.83981856737945\n",
      "Overall RMSE (mean of folds) 24.30861881132245\n"
     ]
    },
    {
     "data": {
      "text/plain": [
       "7    6\n",
       "9    5\n",
       "4    5\n",
       "3    4\n",
       "6    3\n",
       "8    1\n",
       "dtype: int64"
      ]
     },
     "execution_count": 114,
     "metadata": {},
     "output_type": "execute_result"
    }
   ],
   "source": [
    "path = 'results/raw_gp_lls_self_greedy/'+kernel+'/'\n",
    "name = 'lls_rbf'\n",
    "master_df[name] = None\n",
    "preds = []\n",
    "tests = []\n",
    "mean_rmse_per_fold = []\n",
    "success = []\n",
    "n_fold_rmse = []\n",
    "for fold in folds:\n",
    "    hyp = []\n",
    "    fold_rmse = []\n",
    "    tmp_preds_y = []\n",
    "    tmp_models = []\n",
    "    tmp_tests_y = []\n",
    "    tmp_tests_x = []\n",
    "    tmp_train_Xy = []\n",
    "    for ts_n, ts in enumerate(df.index.unique()[:n_ts]):\n",
    "        try:\n",
    "            tmp = pd.read_pickle(path+'ts_'+str(ts)+'_fold_'+str(fold))\n",
    "            hyp.append(tmp['best_hyperpara']['N'])\n",
    "            preds.append(tmp['pred_y'].squeeze())\n",
    "            tests.append(tmp['test_y'].squeeze())\n",
    "            tmp_models.append(tmp['best_model'])\n",
    "            tmp_train_Xy.append(tmp['train_Xy'])\n",
    "            tmp_tests_x.append(tmp['test_Xy'][0].squeeze())\n",
    "            tmp_preds_y.append(tmp['pred_y'].squeeze())\n",
    "            tmp_tests_y.append(tmp['test_y'].squeeze())\n",
    "            success.append(path+'ts_'+str(ts)+'_fold_'+str(fold))\n",
    "            fold_rmse.append(mean_squared_error(tmp_tests_y[-1], tmp_preds_y[-1], squared=False))\n",
    "            master_df.loc[(str(ts_n), str(ts), str(fold)),name] = mean_squared_error(tmp_tests_y[-1], tmp_preds_y[-1], squared=False)\n",
    "        except:\n",
    "            pass\n",
    "    print('Fold',fold,'mean_rmse',np.mean(fold_rmse))\n",
    "    mean_rmse_per_fold.append(np.mean(fold_rmse))\n",
    "    print(\"Fold\",fold,'individual_rmse',mean_squared_error(np.array(tmp_tests_y).flatten(), np.array(tmp_preds_y).flatten(), squared=False))\n",
    "print(\"Overall RMSE (individual)\", mean_squared_error(np.array(tests).flatten(), np.array(preds).flatten(), squared=False))\n",
    "print(\"Overall RMSE (mean of folds)\", np.mean(mean_rmse_per_fold))\n",
    "pd.Series(hyp).value_counts()"
   ]
  },
  {
   "cell_type": "markdown",
   "metadata": {},
   "source": [
    "## Manual check (Misc.)"
   ]
  },
  {
   "cell_type": "code",
   "execution_count": 115,
   "metadata": {},
   "outputs": [
    {
     "data": {
      "image/png": "[encoded data removed]",
      "text/plain": [
       "<Figure size 432x288 with 1 Axes>"
      ]
     },
     "metadata": {
      "needs_background": "light"
     },
     "output_type": "display_data"
    }
   ],
   "source": [
    "N = 0\n",
    "dim = 1\n",
    "plt.plot()\n",
    "plt.scatter(tmp_train_Xy[N][0][:,dim], tmp_train_Xy[N][1],label='train')\n",
    "plt.scatter(tmp_tests_x[N][:,dim], tmp_tests_y[N],label='test')\n",
    "plt.scatter(tmp_tests_x[N][:,dim], tmp_preds_y[N],label='pred')\n",
    "plt.legend();"
   ]
  },
  {
   "cell_type": "markdown",
   "metadata": {},
   "source": [
    "## K fold GP-LLS-matern-gp-extra"
   ]
  },
  {
   "cell_type": "code",
   "execution_count": 14,
   "metadata": {},
   "outputs": [],
   "source": [
    "# path = 'results/raw_gp_lls_matern_gp_extras/'\n",
    "# n_ts = 24"
   ]
  },
  {
   "cell_type": "code",
   "execution_count": 15,
   "metadata": {},
   "outputs": [],
   "source": [
    "# from scipy.optimize import differential_evolution\n",
    "# from sklearn.gaussian_process import GaussianProcessRegressor\n",
    "# from sklearn.gaussian_process.kernels \\\n",
    "#     import ConstantKernel as C, Matern\n",
    "# from sklearn.metrics import mean_squared_error\n",
    "# from gp_extras.kernels import LocalLengthScalesKernel\n",
    "\n",
    "# def de_optimizer(obj_func, initial_theta, bounds):\n",
    "#     res = differential_evolution(lambda x: obj_func(x, eval_gradient=False),\n",
    "#                                  bounds, maxiter=20, disp=False, polish=False)\n",
    "#     return res.x, obj_func(res.x, eval_gradient=False)"
   ]
  },
  {
   "cell_type": "code",
   "execution_count": 16,
   "metadata": {},
   "outputs": [],
   "source": [
    "# Check if works\n",
    "# !python scripts/process_gp_lls_gp_extras.py 0 0"
   ]
  },
  {
   "cell_type": "markdown",
   "metadata": {},
   "source": [
    "### Training"
   ]
  },
  {
   "cell_type": "code",
   "execution_count": 17,
   "metadata": {
    "scrolled": true
   },
   "outputs": [],
   "source": [
    "# init = time()\n",
    "# jobs = []\n",
    "# for fold in range(K):\n",
    "#     for ts in range(n_ts):\n",
    "#         jobs.append('python scripts/process_gp_lls_gp_extras.py {0} {1}'.format(ts, fold))\n",
    "\n",
    "# print('starting',len(jobs),'jobs on',psutil.cpu_count(),'CPUs')\n",
    "# sleep(1)\n",
    "# n_splits = len(jobs)//64+1\n",
    "# for b_id, batch in enumerate(np.array_split(jobs, n_splits)):\n",
    "#     print('start',b_id+1,'of',n_splits)\n",
    "#     print('length of batch=',len(batch))\n",
    "#     os.system(' | '.join(batch))\n",
    "#     clear_output(wait=True)\n",
    "#     print('end',b_id+1,'of',n_splits)\n",
    "# print((time()-init)/60, 'minutes. all fold complete')"
   ]
  },
  {
   "cell_type": "markdown",
   "metadata": {},
   "source": [
    "### RMSE calculation"
   ]
  },
  {
   "cell_type": "code",
   "execution_count": 18,
   "metadata": {},
   "outputs": [],
   "source": [
    "# path = 'results/raw_gp_lls_matern_gp_extras/'\n",
    "# name = 'gp_extra_matern'\n",
    "# master_df[name] = None\n",
    "# preds = []\n",
    "# tests = []\n",
    "# mean_rmse_per_fold = []\n",
    "# success = []\n",
    "# n_fold_rmse = []\n",
    "# for fold in folds:\n",
    "#     hyp = []\n",
    "#     fold_rmse = []\n",
    "#     tmp_preds_y = []\n",
    "#     tmp_models = []\n",
    "#     tmp_tests_y = []\n",
    "#     tmp_tests_x = []\n",
    "#     tmp_train_Xy = []\n",
    "#     for ts_n, ts in enumerate(df.index.unique()[:n_ts]):\n",
    "#         try:\n",
    "#             tmp = pd.read_pickle(path+'ts_'+str(ts)+'_fold_'+str(fold))\n",
    "#             hyp.append(tmp['best_hyperpara']['N'])\n",
    "#             preds.append(tmp['pred_y'].squeeze())\n",
    "#             tests.append(tmp['test_y'].squeeze())\n",
    "#             tmp_models.append(tmp['best_model'])\n",
    "#             tmp_train_Xy.append(tmp['train_Xy'])\n",
    "#             tmp_tests_x.append(tmp['test_Xy'][0].squeeze())\n",
    "#             tmp_preds_y.append(tmp['pred_y'].squeeze())\n",
    "#             tmp_tests_y.append(tmp['test_y'].squeeze())\n",
    "#             success.append(path+'ts_'+str(ts)+'_fold_'+str(fold))\n",
    "#             fold_rmse.append(mean_squared_error(tmp_tests_y[-1], tmp_preds_y[-1], squared=False))\n",
    "#             master_df.loc[(str(ts_n), str(ts), str(fold)),name] = mean_squared_error(tmp_tests_y[-1], tmp_preds_y[-1], squared=False)\n",
    "#         except:\n",
    "#             pass\n",
    "#     print('Fold',fold,'mean_rmse',np.mean(fold_rmse))\n",
    "#     mean_rmse_per_fold.append(np.mean(fold_rmse))\n",
    "#     print(\"Fold\",fold,'individual_rmse',mean_squared_error(np.array(tmp_tests_y).flatten(), np.array(tmp_preds_y).flatten(), squared=False))\n",
    "# print(\"Overall RMSE (individual)\", mean_squared_error(np.array(tests).flatten(), np.array(preds).flatten(), squared=False))\n",
    "# print(\"Overall RMSE (mean of folds)\", np.mean(mean_rmse_per_fold))\n",
    "# pd.Series(hyp).value_counts()"
   ]
  },
  {
   "cell_type": "markdown",
   "metadata": {},
   "source": [
    "## K fold Kriging"
   ]
  },
  {
   "cell_type": "code",
   "execution_count": 19,
   "metadata": {},
   "outputs": [],
   "source": [
    "path = 'results/raw_kriging/'\n",
    "n_ts = 24"
   ]
  },
  {
   "cell_type": "code",
   "execution_count": 20,
   "metadata": {},
   "outputs": [],
   "source": [
    "# Check if works\n",
    "# !python scripts/process_kriging.py 0 0"
   ]
  },
  {
   "cell_type": "markdown",
   "metadata": {},
   "source": [
    "### Training"
   ]
  },
  {
   "cell_type": "code",
   "execution_count": 21,
   "metadata": {
    "scrolled": true
   },
   "outputs": [],
   "source": [
    "# init = time()\n",
    "# jobs = []\n",
    "# for fold in range(K):\n",
    "#     for ts in range(n_ts):\n",
    "#         jobs.append('python scripts/process_kriging.py {0} {1}'.format(ts, fold))\n",
    "\n",
    "# print('starting',len(jobs),'jobs on',psutil.cpu_count(),'CPUs')\n",
    "# sleep(1)\n",
    "# n_splits = len(jobs)//64+1\n",
    "# for b_id, batch in enumerate(np.array_split(jobs, n_splits)):\n",
    "#     print('start',b_id+1,'of',n_splits)\n",
    "#     print('length of batch=',len(batch))\n",
    "#     os.system(' | '.join(batch))\n",
    "#     clear_output(wait=True)\n",
    "#     print('end',b_id+1,'of',n_splits)\n",
    "# print((time()-init)/60, 'minutes. all fold complete')"
   ]
  },
  {
   "cell_type": "markdown",
   "metadata": {},
   "source": [
    "### RMSE calculation"
   ]
  },
  {
   "cell_type": "code",
   "execution_count": 22,
   "metadata": {},
   "outputs": [
    {
     "name": "stdout",
     "output_type": "stream",
     "text": [
      "Fold 0 mean_rmse 23.75316884410807\n",
      "Fold 0 individual_rmse 26.699839384773693\n",
      "Fold 1 mean_rmse 19.649797782390547\n",
      "Fold 1 individual_rmse 22.766864313809513\n",
      "Fold 2 mean_rmse 23.047641448882217\n",
      "Fold 2 individual_rmse 24.967948866013174\n",
      "Overall RMSE (individual) 24.863695115783937\n",
      "Overall RMSE (mean of folds) 22.150202691793613\n"
     ]
    },
    {
     "data": {
      "text/plain": [
       "9    6\n",
       "8    5\n",
       "7    3\n",
       "6    3\n",
       "5    3\n",
       "4    3\n",
       "3    1\n",
       "dtype: int64"
      ]
     },
     "execution_count": 22,
     "metadata": {},
     "output_type": "execute_result"
    }
   ],
   "source": [
    "path = 'results/raw_kriging/'\n",
    "name = 'kriging'\n",
    "master_df[name] = None\n",
    "preds = []\n",
    "tests = []\n",
    "mean_rmse_per_fold = []\n",
    "success = []\n",
    "n_fold_rmse = []\n",
    "for fold in folds:\n",
    "    hyp = []\n",
    "    fold_rmse = []\n",
    "    tmp_preds_y = []\n",
    "    tmp_models = []\n",
    "    tmp_tests_y = []\n",
    "    tmp_tests_x = []\n",
    "    tmp_train_Xy = []\n",
    "    for ts_n, ts in enumerate(df.index.unique()[:n_ts]):\n",
    "        try:\n",
    "            tmp = pd.read_pickle(path+'ts_'+str(ts)+'_fold_'+str(fold))\n",
    "            hyp.append(tmp['best_hyperpara']['nlags'])\n",
    "            preds.append(tmp['pred_y'].squeeze())\n",
    "            tests.append(tmp['test_y'].squeeze())\n",
    "            tmp_models.append(tmp['best_model'])\n",
    "            tmp_train_Xy.append(tmp['train_Xy'])\n",
    "            tmp_tests_x.append(tmp['test_Xy'][0].squeeze())\n",
    "            tmp_preds_y.append(tmp['pred_y'].squeeze())\n",
    "            tmp_tests_y.append(tmp['test_y'].squeeze())\n",
    "            success.append(path+'ts_'+str(ts)+'_fold_'+str(fold))\n",
    "            fold_rmse.append(mean_squared_error(tmp_tests_y[-1], tmp_preds_y[-1], squared=False))\n",
    "            master_df.loc[(str(ts_n), str(ts), str(fold)),name] = mean_squared_error(tmp_tests_y[-1], tmp_preds_y[-1], squared=False)\n",
    "        except:\n",
    "            pass\n",
    "    print('Fold',fold,'mean_rmse',np.mean(fold_rmse))\n",
    "    mean_rmse_per_fold.append(np.mean(fold_rmse))\n",
    "    print(\"Fold\",fold,'individual_rmse',mean_squared_error(np.array(tmp_tests_y).flatten(), np.array(tmp_preds_y).flatten(), squared=False))\n",
    "print(\"Overall RMSE (individual)\", mean_squared_error(np.array(tests).flatten(), np.array(preds).flatten(), squared=False))\n",
    "print(\"Overall RMSE (mean of folds)\", np.mean(mean_rmse_per_fold))\n",
    "pd.Series(hyp).value_counts()"
   ]
  },
  {
   "cell_type": "markdown",
   "metadata": {},
   "source": [
    "## K fold GP - RBF"
   ]
  },
  {
   "cell_type": "code",
   "execution_count": 23,
   "metadata": {},
   "outputs": [],
   "source": [
    "path = 'results/raw_gp_rbf/'\n",
    "n_ts = 24"
   ]
  },
  {
   "cell_type": "code",
   "execution_count": 24,
   "metadata": {},
   "outputs": [],
   "source": [
    "# Check if works\n",
    "# !python scripts/process_gp_rbf.py 0 0"
   ]
  },
  {
   "cell_type": "markdown",
   "metadata": {},
   "source": [
    "### Training"
   ]
  },
  {
   "cell_type": "code",
   "execution_count": 25,
   "metadata": {
    "scrolled": true
   },
   "outputs": [],
   "source": [
    "# init = time()\n",
    "# jobs = []\n",
    "# for fold in range(K):\n",
    "#     for ts in range(n_ts):\n",
    "#         jobs.append('python scripts/process_gp_rbf.py {0} {1}'.format(ts, fold))\n",
    "\n",
    "# print('starting',len(jobs),'jobs on',psutil.cpu_count(),'CPUs')\n",
    "# sleep(1)\n",
    "# n_splits = len(jobs)//64+1\n",
    "# for b_id, batch in enumerate(np.array_split(jobs, n_splits)):\n",
    "#     print('start',b_id+1,'of',n_splits)\n",
    "#     print('length of batch=',len(batch))\n",
    "#     os.system(' | '.join(batch))\n",
    "#     clear_output(wait=True)\n",
    "#     print('end',b_id+1,'of',n_splits)\n",
    "# print((time()-init)/60, 'minutes. all fold complete')"
   ]
  },
  {
   "cell_type": "markdown",
   "metadata": {},
   "source": [
    "### RMSE calculation"
   ]
  },
  {
   "cell_type": "code",
   "execution_count": 26,
   "metadata": {},
   "outputs": [
    {
     "name": "stdout",
     "output_type": "stream",
     "text": [
      "Fold 0 mean_rmse 23.76587720231541\n",
      "Fold 0 individual_rmse 26.610777278549186\n",
      "Fold 1 mean_rmse 18.763100664774672\n",
      "Fold 1 individual_rmse 21.57029630698414\n",
      "Fold 2 mean_rmse 23.061756002838482\n",
      "Fold 2 individual_rmse 24.955738292569148\n",
      "Overall RMSE (individual) 24.469028204833727\n",
      "Overall RMSE (mean of folds) 21.863577956642853\n"
     ]
    },
    {
     "data": {
      "text/plain": [
       "100.0    15\n",
       "1.0       4\n",
       "0.1       3\n",
       "10.0      2\n",
       "dtype: int64"
      ]
     },
     "execution_count": 26,
     "metadata": {},
     "output_type": "execute_result"
    }
   ],
   "source": [
    "path = 'results/raw_gp_rbf/'\n",
    "name = 'stat_gp_rbf'\n",
    "master_df[name] = None\n",
    "preds = []\n",
    "tests = []\n",
    "mean_rmse_per_fold = []\n",
    "success = []\n",
    "n_fold_rmse = []\n",
    "for fold in folds:\n",
    "    hyp = []\n",
    "    fold_rmse = []\n",
    "    tmp_preds_y = []\n",
    "    tmp_models = []\n",
    "    tmp_tests_y = []\n",
    "    tmp_tests_x = []\n",
    "    tmp_train_Xy = []\n",
    "    for ts_n, ts in enumerate(df.index.unique()[:n_ts]):\n",
    "        try:\n",
    "            tmp = pd.read_pickle(path+'ts_'+str(ts)+'_fold_'+str(fold))\n",
    "            hyp.append(tmp['best_hyperpara']['ls_init'])\n",
    "            preds.append(tmp['pred_y'].squeeze())\n",
    "            tests.append(tmp['test_y'].squeeze())\n",
    "            tmp_models.append(tmp['best_model'])\n",
    "            tmp_train_Xy.append(tmp['train_Xy'])\n",
    "            tmp_tests_x.append(tmp['test_Xy'][0].squeeze())\n",
    "            tmp_preds_y.append(tmp['pred_y'].squeeze())\n",
    "            tmp_tests_y.append(tmp['test_y'].squeeze())\n",
    "            success.append(path+'ts_'+str(ts)+'_fold_'+str(fold))\n",
    "            fold_rmse.append(mean_squared_error(tmp_tests_y[-1], tmp_preds_y[-1], squared=False))\n",
    "            master_df.loc[(str(ts_n), str(ts), str(fold)),name] = mean_squared_error(tmp_tests_y[-1], tmp_preds_y[-1], squared=False)\n",
    "        except:\n",
    "            pass\n",
    "    print('Fold',fold,'mean_rmse',np.mean(fold_rmse))\n",
    "    mean_rmse_per_fold.append(np.mean(fold_rmse))\n",
    "    print(\"Fold\",fold,'individual_rmse',mean_squared_error(np.array(tmp_tests_y).flatten(), np.array(tmp_preds_y).flatten(), squared=False))\n",
    "print(\"Overall RMSE (individual)\", mean_squared_error(np.array(tests).flatten(), np.array(preds).flatten(), squared=False))\n",
    "print(\"Overall RMSE (mean of folds)\", np.mean(mean_rmse_per_fold))\n",
    "pd.Series(hyp).value_counts()"
   ]
  },
  {
   "cell_type": "markdown",
   "metadata": {},
   "source": [
    "## K fold GP - Matern"
   ]
  },
  {
   "cell_type": "code",
   "execution_count": 27,
   "metadata": {},
   "outputs": [],
   "source": [
    "path = 'results/raw_gp_matern/'\n",
    "n_ts = 24"
   ]
  },
  {
   "cell_type": "code",
   "execution_count": 28,
   "metadata": {},
   "outputs": [],
   "source": [
    "# Check if works\n",
    "# !python scripts/process_gp_matern.py 0 0"
   ]
  },
  {
   "cell_type": "markdown",
   "metadata": {},
   "source": [
    "### Training"
   ]
  },
  {
   "cell_type": "code",
   "execution_count": 29,
   "metadata": {
    "scrolled": true
   },
   "outputs": [],
   "source": [
    "# init = time()\n",
    "# jobs = []\n",
    "# for fold in range(K):\n",
    "#     for ts in range(n_ts):\n",
    "#         jobs.append('python scripts/process_gp_matern.py {0} {1}'.format(ts, fold))\n",
    "\n",
    "# print('starting',len(jobs),'jobs on',psutil.cpu_count(),'CPUs')\n",
    "# sleep(1)\n",
    "# n_splits = len(jobs)//64+1\n",
    "# for b_id, batch in enumerate(np.array_split(jobs, n_splits)):\n",
    "#     print('start',b_id+1,'of',n_splits)\n",
    "#     print('length of batch=',len(batch))\n",
    "#     os.system(' | '.join(batch))\n",
    "#     clear_output(wait=True)\n",
    "#     print('end',b_id+1,'of',n_splits)\n",
    "# print((time()-init)/60, 'minutes. all fold complete')"
   ]
  },
  {
   "cell_type": "markdown",
   "metadata": {},
   "source": [
    "### RMSE calculation"
   ]
  },
  {
   "cell_type": "code",
   "execution_count": 30,
   "metadata": {},
   "outputs": [
    {
     "name": "stdout",
     "output_type": "stream",
     "text": [
      "Fold 0 mean_rmse 23.042371974442414\n",
      "Fold 0 individual_rmse 26.20930684232478\n",
      "Fold 1 mean_rmse 19.049127576989353\n",
      "Fold 1 individual_rmse 21.716335880678145\n",
      "Fold 2 mean_rmse 22.634774057374443\n",
      "Fold 2 individual_rmse 24.555288494230574\n",
      "Overall RMSE (individual) 24.2314479019342\n",
      "Overall RMSE (mean of folds) 21.575424536268738\n"
     ]
    },
    {
     "data": {
      "text/plain": [
       "100.0    12\n",
       "0.1       5\n",
       "10.0      4\n",
       "1.0       3\n",
       "dtype: int64"
      ]
     },
     "execution_count": 30,
     "metadata": {},
     "output_type": "execute_result"
    }
   ],
   "source": [
    "path = 'results/raw_gp_matern/'\n",
    "name = 'stat_gp_matern'\n",
    "master_df[name] = None\n",
    "preds = []\n",
    "tests = []\n",
    "mean_rmse_per_fold = []\n",
    "success = []\n",
    "n_fold_rmse = []\n",
    "for fold in folds:\n",
    "    hyp = []\n",
    "    fold_rmse = []\n",
    "    tmp_preds_y = []\n",
    "    tmp_models = []\n",
    "    tmp_tests_y = []\n",
    "    tmp_tests_x = []\n",
    "    tmp_train_Xy = []\n",
    "    for ts_n, ts in enumerate(df.index.unique()[:n_ts]):\n",
    "        try:\n",
    "            tmp = pd.read_pickle(path+'ts_'+str(ts)+'_fold_'+str(fold))\n",
    "            hyp.append(tmp['best_hyperpara']['ls_init'])\n",
    "            preds.append(tmp['pred_y'].squeeze())\n",
    "            tests.append(tmp['test_y'].squeeze())\n",
    "            tmp_models.append(tmp['best_model'])\n",
    "            tmp_train_Xy.append(tmp['train_Xy'])\n",
    "            tmp_tests_x.append(tmp['test_Xy'][0].squeeze())\n",
    "            tmp_preds_y.append(tmp['pred_y'].squeeze())\n",
    "            tmp_tests_y.append(tmp['test_y'].squeeze())\n",
    "            success.append(path+'ts_'+str(ts)+'_fold_'+str(fold))\n",
    "            fold_rmse.append(mean_squared_error(tmp_tests_y[-1], tmp_preds_y[-1], squared=False))\n",
    "            master_df.loc[(str(ts_n), str(ts), str(fold)),name] = mean_squared_error(tmp_tests_y[-1], tmp_preds_y[-1], squared=False)\n",
    "        except:\n",
    "            pass\n",
    "    print('Fold',fold,'mean_rmse',np.mean(fold_rmse))\n",
    "    mean_rmse_per_fold.append(np.mean(fold_rmse))\n",
    "    print(\"Fold\",fold,'individual_rmse',mean_squared_error(np.array(tmp_tests_y).flatten(), np.array(tmp_preds_y).flatten(), squared=False))\n",
    "print(\"Overall RMSE (individual)\", mean_squared_error(np.array(tests).flatten(), np.array(preds).flatten(), squared=False))\n",
    "print(\"Overall RMSE (mean of folds)\", np.mean(mean_rmse_per_fold))\n",
    "pd.Series(hyp).value_counts()"
   ]
  },
  {
   "cell_type": "markdown",
   "metadata": {},
   "source": [
    "## Appendix and Analysis"
   ]
  },
  {
   "cell_type": "code",
   "execution_count": 31,
   "metadata": {},
   "outputs": [],
   "source": [
    "master_df_pruned = master_df.dropna(how='all')"
   ]
  },
  {
   "cell_type": "code",
   "execution_count": 38,
   "metadata": {
    "scrolled": true
   },
   "outputs": [
    {
     "data": {
      "text/html": [
       "<div>\n",
       "<style scoped>\n",
       "    .dataframe tbody tr th:only-of-type {\n",
       "        vertical-align: middle;\n",
       "    }\n",
       "\n",
       "    .dataframe tbody tr th {\n",
       "        vertical-align: top;\n",
       "    }\n",
       "\n",
       "    .dataframe thead th {\n",
       "        text-align: right;\n",
       "    }\n",
       "</style>\n",
       "<table border=\"1\" class=\"dataframe\">\n",
       "  <thead>\n",
       "    <tr style=\"text-align: right;\">\n",
       "      <th></th>\n",
       "      <th></th>\n",
       "      <th></th>\n",
       "      <th>lls_matern</th>\n",
       "      <th>lls_matern_model</th>\n",
       "      <th>lls_rbf</th>\n",
       "      <th>kriging</th>\n",
       "      <th>stat_gp_rbf</th>\n",
       "      <th>stat_gp_matern</th>\n",
       "    </tr>\n",
       "  </thead>\n",
       "  <tbody>\n",
       "    <tr>\n",
       "      <th>15</th>\n",
       "      <th>2014-05-01 19:00:00</th>\n",
       "      <th>0</th>\n",
       "      <td>79.0784</td>\n",
       "      <td>&lt;NSGPy.NumPy.latent_lengthscale_model.latent_l...</td>\n",
       "      <td>52.5627</td>\n",
       "      <td>50.4421</td>\n",
       "      <td>53.322</td>\n",
       "      <td>51.8759</td>\n",
       "    </tr>\n",
       "    <tr>\n",
       "      <th>14</th>\n",
       "      <th>2014-05-01 18:00:00</th>\n",
       "      <th>2</th>\n",
       "      <td>69.6368</td>\n",
       "      <td>&lt;NSGPy.NumPy.latent_lengthscale_model.latent_l...</td>\n",
       "      <td>40.7253</td>\n",
       "      <td>33.8793</td>\n",
       "      <td>29.9512</td>\n",
       "      <td>30.1241</td>\n",
       "    </tr>\n",
       "    <tr>\n",
       "      <th>20</th>\n",
       "      <th>2014-05-02 01:00:00</th>\n",
       "      <th>1</th>\n",
       "      <td>55.1097</td>\n",
       "      <td>&lt;NSGPy.NumPy.latent_lengthscale_model.latent_l...</td>\n",
       "      <td>54.2332</td>\n",
       "      <td>54.3333</td>\n",
       "      <td>54.3487</td>\n",
       "      <td>54.3487</td>\n",
       "    </tr>\n",
       "    <tr>\n",
       "      <th>8</th>\n",
       "      <th>2014-05-01 12:00:00</th>\n",
       "      <th>2</th>\n",
       "      <td>55.0207</td>\n",
       "      <td>&lt;NSGPy.NumPy.latent_lengthscale_model.latent_l...</td>\n",
       "      <td>25.6862</td>\n",
       "      <td>25.5653</td>\n",
       "      <td>25.7281</td>\n",
       "      <td>25.7433</td>\n",
       "    </tr>\n",
       "    <tr>\n",
       "      <th>16</th>\n",
       "      <th>2014-05-01 21:00:00</th>\n",
       "      <th>0</th>\n",
       "      <td>52.8115</td>\n",
       "      <td>&lt;NSGPy.NumPy.latent_lengthscale_model.latent_l...</td>\n",
       "      <td>51.2618</td>\n",
       "      <td>50.704</td>\n",
       "      <td>51.275</td>\n",
       "      <td>51.3797</td>\n",
       "    </tr>\n",
       "    <tr>\n",
       "      <th>...</th>\n",
       "      <th>...</th>\n",
       "      <th>...</th>\n",
       "      <td>...</td>\n",
       "      <td>...</td>\n",
       "      <td>...</td>\n",
       "      <td>...</td>\n",
       "      <td>...</td>\n",
       "      <td>...</td>\n",
       "    </tr>\n",
       "    <tr>\n",
       "      <th>19</th>\n",
       "      <th>2014-05-02 00:00:00</th>\n",
       "      <th>1</th>\n",
       "      <td>9.51039</td>\n",
       "      <td>&lt;NSGPy.NumPy.latent_lengthscale_model.latent_l...</td>\n",
       "      <td>9.46285</td>\n",
       "      <td>10.4595</td>\n",
       "      <td>10.4084</td>\n",
       "      <td>10.4027</td>\n",
       "    </tr>\n",
       "    <tr>\n",
       "      <th rowspan=\"2\" valign=\"top\">22</th>\n",
       "      <th rowspan=\"2\" valign=\"top\">2014-05-02 03:00:00</th>\n",
       "      <th>2</th>\n",
       "      <td>7.47419</td>\n",
       "      <td>&lt;NSGPy.NumPy.latent_lengthscale_model.latent_l...</td>\n",
       "      <td>7.35378</td>\n",
       "      <td>7.96888</td>\n",
       "      <td>7.37382</td>\n",
       "      <td>7.37944</td>\n",
       "    </tr>\n",
       "    <tr>\n",
       "      <th>0</th>\n",
       "      <td>6.64781</td>\n",
       "      <td>&lt;NSGPy.NumPy.latent_lengthscale_model.latent_l...</td>\n",
       "      <td>6.37928</td>\n",
       "      <td>6.22665</td>\n",
       "      <td>7.60941</td>\n",
       "      <td>7.69981</td>\n",
       "    </tr>\n",
       "    <tr>\n",
       "      <th>21</th>\n",
       "      <th>2014-05-02 02:00:00</th>\n",
       "      <th>0</th>\n",
       "      <td>6.48147</td>\n",
       "      <td>&lt;NSGPy.NumPy.latent_lengthscale_model.latent_l...</td>\n",
       "      <td>6.483</td>\n",
       "      <td>6.56755</td>\n",
       "      <td>7.61375</td>\n",
       "      <td>7.73343</td>\n",
       "    </tr>\n",
       "    <tr>\n",
       "      <th>22</th>\n",
       "      <th>2014-05-02 03:00:00</th>\n",
       "      <th>1</th>\n",
       "      <td>5.65938</td>\n",
       "      <td>&lt;NSGPy.NumPy.latent_lengthscale_model.latent_l...</td>\n",
       "      <td>5.69599</td>\n",
       "      <td>5.88574</td>\n",
       "      <td>5.69804</td>\n",
       "      <td>5.70548</td>\n",
       "    </tr>\n",
       "  </tbody>\n",
       "</table>\n",
       "<p>72 rows × 6 columns</p>\n",
       "</div>"
      ],
      "text/plain": [
       "                         lls_matern  \\\n",
       "15 2014-05-01 19:00:00 0    79.0784   \n",
       "14 2014-05-01 18:00:00 2    69.6368   \n",
       "20 2014-05-02 01:00:00 1    55.1097   \n",
       "8  2014-05-01 12:00:00 2    55.0207   \n",
       "16 2014-05-01 21:00:00 0    52.8115   \n",
       "...                             ...   \n",
       "19 2014-05-02 00:00:00 1    9.51039   \n",
       "22 2014-05-02 03:00:00 2    7.47419   \n",
       "                       0    6.64781   \n",
       "21 2014-05-02 02:00:00 0    6.48147   \n",
       "22 2014-05-02 03:00:00 1    5.65938   \n",
       "\n",
       "                                                           lls_matern_model  \\\n",
       "15 2014-05-01 19:00:00 0  <NSGPy.NumPy.latent_lengthscale_model.latent_l...   \n",
       "14 2014-05-01 18:00:00 2  <NSGPy.NumPy.latent_lengthscale_model.latent_l...   \n",
       "20 2014-05-02 01:00:00 1  <NSGPy.NumPy.latent_lengthscale_model.latent_l...   \n",
       "8  2014-05-01 12:00:00 2  <NSGPy.NumPy.latent_lengthscale_model.latent_l...   \n",
       "16 2014-05-01 21:00:00 0  <NSGPy.NumPy.latent_lengthscale_model.latent_l...   \n",
       "...                                                                     ...   \n",
       "19 2014-05-02 00:00:00 1  <NSGPy.NumPy.latent_lengthscale_model.latent_l...   \n",
       "22 2014-05-02 03:00:00 2  <NSGPy.NumPy.latent_lengthscale_model.latent_l...   \n",
       "                       0  <NSGPy.NumPy.latent_lengthscale_model.latent_l...   \n",
       "21 2014-05-02 02:00:00 0  <NSGPy.NumPy.latent_lengthscale_model.latent_l...   \n",
       "22 2014-05-02 03:00:00 1  <NSGPy.NumPy.latent_lengthscale_model.latent_l...   \n",
       "\n",
       "                          lls_rbf  kriging stat_gp_rbf stat_gp_matern  \n",
       "15 2014-05-01 19:00:00 0  52.5627  50.4421      53.322        51.8759  \n",
       "14 2014-05-01 18:00:00 2  40.7253  33.8793     29.9512        30.1241  \n",
       "20 2014-05-02 01:00:00 1  54.2332  54.3333     54.3487        54.3487  \n",
       "8  2014-05-01 12:00:00 2  25.6862  25.5653     25.7281        25.7433  \n",
       "16 2014-05-01 21:00:00 0  51.2618   50.704      51.275        51.3797  \n",
       "...                           ...      ...         ...            ...  \n",
       "19 2014-05-02 00:00:00 1  9.46285  10.4595     10.4084        10.4027  \n",
       "22 2014-05-02 03:00:00 2  7.35378  7.96888     7.37382        7.37944  \n",
       "                       0  6.37928  6.22665     7.60941        7.69981  \n",
       "21 2014-05-02 02:00:00 0    6.483  6.56755     7.61375        7.73343  \n",
       "22 2014-05-02 03:00:00 1  5.69599  5.88574     5.69804        5.70548  \n",
       "\n",
       "[72 rows x 6 columns]"
      ]
     },
     "execution_count": 38,
     "metadata": {},
     "output_type": "execute_result"
    }
   ],
   "source": [
    "pd.set_option('display.max_rows', 50)\n",
    "lets_see = master_df_pruned.sort_values(['lls_matern'], ascending=False)\n",
    "lets_see"
   ]
  },
  {
   "cell_type": "code",
   "execution_count": 33,
   "metadata": {},
   "outputs": [
    {
     "data": {
      "text/plain": [
       "lls_matern        24.557542\n",
       "lls_rbf           23.867059\n",
       "kriging           22.150203\n",
       "stat_gp_rbf       21.863578\n",
       "stat_gp_matern    21.575425\n",
       "dtype: float64"
      ]
     },
     "execution_count": 33,
     "metadata": {},
     "output_type": "execute_result"
    }
   ],
   "source": [
    "lets_see.mean() # Mean rmse across all time-stamps"
   ]
  },
  {
   "cell_type": "code",
   "execution_count": 94,
   "metadata": {},
   "outputs": [
    {
     "name": "stdout",
     "output_type": "stream",
     "text": [
      "55.24511699807987 6\r\n",
      "test_y [28, 23, 226, 22, 25, 25, 39, 43, 32, 27, 54, 36]\r\n",
      "pred_y [39, 43, 46, 48, 49, 51, 47, 56, 43, 17, 67, 69]\r\n",
      "len [[-0.78058272  0.53659046]\r\n",
      " [-0.4282816   0.40899019]\r\n",
      " [-0.16433776  0.15385099]\r\n",
      " [-0.15154373 -0.42792404]\r\n",
      " [ 0.12684969 -0.03605   ]\r\n",
      " [ 0.41362377  0.04269449]\r\n",
      " [-0.15559681 -0.03593495]\r\n",
      " [ 0.51043892 -1.06989064]\r\n",
      " [ 1.03232632  3.02194656]\r\n",
      " [-1.78124897  3.98065513]\r\n",
      " [ 3.14250457  1.27326213]\r\n",
      " [ 1.69711824 -1.70256927]]\r\n",
      "{'likelihood (mll)': 49.80694449158155, 'GP_variance (sigma_f)': array([1634.73135993]), 'GP_noise_level (sigma_n)': array([1248.24540793]), 'L_GP_variance (sigma_f_bar)': array([1., 1.]), 'L_GP_lengthscale (sigma_l_bar)': array([175.79478409, 410.79102452]), 'L_GP_noise_level (sigma_n_bar)': array([0.001, 0.001]), 'N_lengthscales (l_bar)': array([[ 279.24049494,  103.30970743],\r\n",
      "       [ 313.26855629, 2005.36330794],\r\n",
      "       [  75.92515224,   99.79624234],\r\n",
      "       [  43.46047323,  526.90888385],\r\n",
      "       [ 679.96476626,  349.13195387],\r\n",
      "       [  87.50615855,   56.28562313]])}\r\n"
     ]
    }
   ],
   "source": [
    "!python scripts/process_gp_lls_self_greedy.py 20 1 matern 24"
   ]
  },
  {
   "cell_type": "code",
   "execution_count": 20,
   "metadata": {},
   "outputs": [
    {
     "data": {
      "text/plain": [
       "{'likelihood (mll)': 73.64919858151589,\n",
       " 'GP_variance (sigma_f)': array([227.49335149]),\n",
       " 'GP_noise_level (sigma_n)': array([1.e-05]),\n",
       " 'L_GP_variance (sigma_f_bar)': array([1., 1.]),\n",
       " 'L_GP_lengthscale (sigma_l_bar)': array([1.e-05, 1.e-05]),\n",
       " 'L_GP_noise_level (sigma_n_bar)': array([1.e-05, 1.e-05]),\n",
       " 'N_lengthscales (l_bar)': array([[110.60023466,  73.34023065],\n",
       "        [  1.10231994,   0.86779805],\n",
       "        [101.24590959,  77.80664803],\n",
       "        [ 94.04267455,  83.51167367],\n",
       "        [117.55323654,  68.71873498],\n",
       "        [ 96.47044885,  81.58089975],\n",
       "        [100.44575126,  78.17672216],\n",
       "        [ 75.50935993, 101.81582812]])}"
      ]
     },
     "execution_count": 20,
     "metadata": {},
     "output_type": "execute_result"
    }
   ],
   "source": [
    "test_model = pd.read_pickle('scripts/scratch/test_model')\n",
    "original_params = test_model.params\n",
    "test_model.params"
   ]
  },
  {
   "cell_type": "code",
   "execution_count": 22,
   "metadata": {},
   "outputs": [
    {
     "data": {
      "text/plain": [
       "<matplotlib.collections.PathCollection at 0x7f901fa3e190>"
      ]
     },
     "execution_count": 22,
     "metadata": {},
     "output_type": "execute_result"
    },
    {
     "data": {
      "image/png": "[encoded data removed]",
      "text/plain": [
       "<Figure size 432x288 with 1 Axes>"
      ]
     },
     "metadata": {
      "needs_background": "light"
     },
     "output_type": "display_data"
    }
   ],
   "source": [
    "plt.scatter(test_model.X[:,1], test_model.y, s=100, label='train')\n",
    "plt.scatter(test_model.X_star[:,1], )\n",
    "plt.scatter(test_model.X[:,1], test_model.predict(test_model.X, False).squeeze(), label='train-predict')\n"
   ]
  },
  {
   "cell_type": "code",
   "execution_count": 8,
   "metadata": {},
   "outputs": [
    {
     "data": {
      "text/plain": [
       "(54.59796980129667,\n",
       " array([[ 10.        ,   1.        ],\n",
       "        [  1.        ,   0.86779805],\n",
       "        [101.24590959,  77.80664803],\n",
       "        [ 94.04267455,  83.51167367],\n",
       "        [117.55323654,  68.71873498],\n",
       "        [ 96.47044885,  81.58089975],\n",
       "        [100.44575126,  78.17672216],\n",
       "        [ 75.50935993, 101.81582812]]))"
      ]
     },
     "execution_count": 8,
     "metadata": {},
     "output_type": "execute_result"
    }
   ],
   "source": [
    "test_model.l_bar[0,0] = 10\n",
    "test_model.l_bar[0,1] = 1\n",
    "test_model.l_bar[1,0] = 1\n",
    "mean_squared_error([148, 99, 143, 67, 101, 130, 182, 82, 174, 130, 71, 103],\n",
    "                   test_model.predict(test_model.X_star, False), squared=False),\\\n",
    "test_model.l_bar"
   ]
  },
  {
   "cell_type": "code",
   "execution_count": null,
   "metadata": {},
   "outputs": [],
   "source": []
  }
 ],
 "metadata": {
  "colab": {
   "authorship_tag": "ABX9TyP6k4WgBqgL+Y9j9KIJPQp/",
   "collapsed_sections": [],
   "include_colab_link": true,
   "name": "GP_Extra_LLS_self_implement.ipynb",
   "provenance": []
  },
  "kernelspec": {
   "display_name": "Python 3",
   "language": "python",
   "name": "python3"
  },
  "language_info": {
   "codemirror_mode": {
    "name": "ipython",
    "version": 3
   },
   "file_extension": ".py",
   "mimetype": "text/x-python",
   "name": "python",
   "nbconvert_exporter": "python",
   "pygments_lexer": "ipython3",
   "version": "3.7.9"
  }
 },
 "nbformat": 4,
 "nbformat_minor": 1
}
